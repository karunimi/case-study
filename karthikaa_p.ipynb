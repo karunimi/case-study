{
 "cells": [
  {
   "cell_type": "markdown",
   "id": "689c6095",
   "metadata": {},
   "source": [
    "# Data Analysis on Amazon Data Set"
   ]
  },
  {
   "cell_type": "markdown",
   "id": "77930018",
   "metadata": {},
   "source": [
    "### Importing Packages Needed:"
   ]
  },
  {
   "cell_type": "code",
   "execution_count": 107,
   "id": "ea4fecb3",
   "metadata": {},
   "outputs": [],
   "source": [
    "import pandas as pd\n",
    "import numpy as ny\n",
    "import matplotlib as mp"
   ]
  },
  {
   "cell_type": "markdown",
   "id": "711cf586",
   "metadata": {},
   "source": [
    "### Importing the amazon file\n"
   ]
  },
  {
   "cell_type": "code",
   "execution_count": 108,
   "id": "64780da7",
   "metadata": {},
   "outputs": [],
   "source": [
    "amazon=pd.read_csv(\"amazon.csv\")\n",
    "am=pd.read_csv(\"amazon.csv\")"
   ]
  },
  {
   "cell_type": "code",
   "execution_count": 109,
   "id": "9b997027",
   "metadata": {},
   "outputs": [],
   "source": [
    "amazon.drop(1282,axis=0,inplace=True)\n",
    "am.drop(1282,axis=0,inplace=True)"
   ]
  },
  {
   "cell_type": "code",
   "execution_count": 110,
   "id": "14a6edd4",
   "metadata": {},
   "outputs": [],
   "source": [
    "am=pd.DataFrame({\"Product\":amazon[\"product_name\"],\"Rating\":amazon[\"rating\"],\"Rating_Count\":amazon[\"rating_count\"]})"
   ]
  },
  {
   "cell_type": "markdown",
   "id": "6064c7e2",
   "metadata": {},
   "source": [
    "# Products in which Profit can be seen:"
   ]
  },
  {
   "cell_type": "markdown",
   "id": "20f7303e",
   "metadata": {},
   "source": [
    "### Converting data into integers for nesseccery columns"
   ]
  },
  {
   "cell_type": "markdown",
   "id": "910e6be1",
   "metadata": {},
   "source": [
    "Rating:"
   ]
  },
  {
   "cell_type": "code",
   "execution_count": 111,
   "id": "b15244cf",
   "metadata": {},
   "outputs": [
    {
     "name": "stderr",
     "output_type": "stream",
     "text": [
      "C:\\Users\\Dell\\AppData\\Local\\Temp\\ipykernel_17136\\3019717842.py:1: FutureWarning: The default value of regex will change from True to False in a future version.\n",
      "  am[\"Rating\"] = am[\"Rating\"].str.replace(\"[,]\", \"\")\n",
      "C:\\Users\\Dell\\AppData\\Local\\Temp\\ipykernel_17136\\3019717842.py:2: FutureWarning: The default value of regex will change from True to False in a future version.\n",
      "  am[\"Rating\"] = am[\"Rating\"].str.replace(\"[.]\", \"\")\n",
      "C:\\Users\\Dell\\AppData\\Local\\Temp\\ipykernel_17136\\3019717842.py:3: FutureWarning: The default value of regex will change from True to False in a future version.\n",
      "  am[\"Rating\"] = am[\"Rating\"].str.replace(\"[|]\", \"30\")\n"
     ]
    }
   ],
   "source": [
    "am[\"Rating\"] = am[\"Rating\"].str.replace(\"[,]\", \"\")\n",
    "am[\"Rating\"] = am[\"Rating\"].str.replace(\"[.]\", \"\")\n",
    "am[\"Rating\"] = am[\"Rating\"].str.replace(\"[|]\", \"30\")\n",
    "am[\"Rating\"] = am[\"Rating\"].astype(int)\n",
    "am[\"Rating\"] = am[\"Rating\"].replace({1:10,2:20,3:30,4:40,5:50})"
   ]
  },
  {
   "cell_type": "markdown",
   "id": "6d385613",
   "metadata": {},
   "source": [
    "Rating count:"
   ]
  },
  {
   "cell_type": "code",
   "execution_count": 112,
   "id": "9d93e257",
   "metadata": {},
   "outputs": [
    {
     "name": "stderr",
     "output_type": "stream",
     "text": [
      "C:\\Users\\Dell\\AppData\\Local\\Temp\\ipykernel_17136\\1474907622.py:1: FutureWarning: The default value of regex will change from True to False in a future version.\n",
      "  am[\"Rating_Count\"] = am[\"Rating_Count\"].str.replace(\"[,]\", \"\")\n"
     ]
    }
   ],
   "source": [
    "am[\"Rating_Count\"] = am[\"Rating_Count\"].str.replace(\"[,]\", \"\")\n",
    "am.dropna(inplace=True)\n",
    "am[\"Rating_Count\"] = am[\"Rating_Count\"].astype(int)"
   ]
  },
  {
   "cell_type": "markdown",
   "id": "a695b038",
   "metadata": {},
   "source": [
    "Discount Percentage:"
   ]
  },
  {
   "cell_type": "markdown",
   "id": "b2edd773",
   "metadata": {},
   "source": [
    "# High production & profitable\n",
    "### These are the products in which we can rise the price amount and can be profited"
   ]
  },
  {
   "cell_type": "code",
   "execution_count": 113,
   "id": "98f4dd98",
   "metadata": {},
   "outputs": [
    {
     "data": {
      "text/html": [
       "<div>\n",
       "<style scoped>\n",
       "    .dataframe tbody tr th:only-of-type {\n",
       "        vertical-align: middle;\n",
       "    }\n",
       "\n",
       "    .dataframe tbody tr th {\n",
       "        vertical-align: top;\n",
       "    }\n",
       "\n",
       "    .dataframe thead th {\n",
       "        text-align: right;\n",
       "    }\n",
       "</style>\n",
       "<table border=\"1\" class=\"dataframe\">\n",
       "  <thead>\n",
       "    <tr style=\"text-align: right;\">\n",
       "      <th></th>\n",
       "      <th>Product</th>\n",
       "      <th>Rating</th>\n",
       "      <th>Rating_Count</th>\n",
       "    </tr>\n",
       "  </thead>\n",
       "  <tbody>\n",
       "    <tr>\n",
       "      <th>12</th>\n",
       "      <td>AmazonBasics Flexible Premium HDMI Cable (Blac...</td>\n",
       "      <td>44</td>\n",
       "      <td>426973</td>\n",
       "    </tr>\n",
       "    <tr>\n",
       "      <th>47</th>\n",
       "      <td>Amazon Basics High-Speed HDMI Cable, 6 Feet - ...</td>\n",
       "      <td>44</td>\n",
       "      <td>426973</td>\n",
       "    </tr>\n",
       "    <tr>\n",
       "      <th>65</th>\n",
       "      <td>Amazon Basics High-Speed HDMI Cable, 6 Feet (2...</td>\n",
       "      <td>44</td>\n",
       "      <td>426973</td>\n",
       "    </tr>\n",
       "    <tr>\n",
       "      <th>684</th>\n",
       "      <td>AmazonBasics Flexible Premium HDMI Cable (Blac...</td>\n",
       "      <td>44</td>\n",
       "      <td>426972</td>\n",
       "    </tr>\n",
       "    <tr>\n",
       "      <th>352</th>\n",
       "      <td>boAt Bassheads 100 in Ear Wired Earphones with...</td>\n",
       "      <td>41</td>\n",
       "      <td>363713</td>\n",
       "    </tr>\n",
       "    <tr>\n",
       "      <th>400</th>\n",
       "      <td>boAt Bassheads 100 in Ear Wired Earphones with...</td>\n",
       "      <td>41</td>\n",
       "      <td>363713</td>\n",
       "    </tr>\n",
       "    <tr>\n",
       "      <th>584</th>\n",
       "      <td>boAt BassHeads 100 in-Ear Wired Headphones wit...</td>\n",
       "      <td>41</td>\n",
       "      <td>363711</td>\n",
       "    </tr>\n",
       "    <tr>\n",
       "      <th>370</th>\n",
       "      <td>Redmi 9 Activ (Carbon Black, 4GB RAM, 64GB Sto...</td>\n",
       "      <td>41</td>\n",
       "      <td>313836</td>\n",
       "    </tr>\n",
       "    <tr>\n",
       "      <th>371</th>\n",
       "      <td>Redmi 9A Sport (Coral Green, 2GB RAM, 32GB Sto...</td>\n",
       "      <td>41</td>\n",
       "      <td>313836</td>\n",
       "    </tr>\n",
       "    <tr>\n",
       "      <th>473</th>\n",
       "      <td>Redmi 9A Sport (Carbon Black, 2GB RAM, 32GB St...</td>\n",
       "      <td>41</td>\n",
       "      <td>313832</td>\n",
       "    </tr>\n",
       "  </tbody>\n",
       "</table>\n",
       "</div>"
      ],
      "text/plain": [
       "                                               Product  Rating  Rating_Count\n",
       "12   AmazonBasics Flexible Premium HDMI Cable (Blac...      44        426973\n",
       "47   Amazon Basics High-Speed HDMI Cable, 6 Feet - ...      44        426973\n",
       "65   Amazon Basics High-Speed HDMI Cable, 6 Feet (2...      44        426973\n",
       "684  AmazonBasics Flexible Premium HDMI Cable (Blac...      44        426972\n",
       "352  boAt Bassheads 100 in Ear Wired Earphones with...      41        363713\n",
       "400  boAt Bassheads 100 in Ear Wired Earphones with...      41        363713\n",
       "584  boAt BassHeads 100 in-Ear Wired Headphones wit...      41        363711\n",
       "370  Redmi 9 Activ (Carbon Black, 4GB RAM, 64GB Sto...      41        313836\n",
       "371  Redmi 9A Sport (Coral Green, 2GB RAM, 32GB Sto...      41        313836\n",
       "473  Redmi 9A Sport (Carbon Black, 2GB RAM, 32GB St...      41        313832"
      ]
     },
     "execution_count": 113,
     "metadata": {},
     "output_type": "execute_result"
    }
   ],
   "source": [
    "am_top=am.nlargest(10,[\"Rating_Count\"])\n",
    "am_top[am_top[\"Rating\"]>40]"
   ]
  },
  {
   "cell_type": "markdown",
   "id": "6d1f7277",
   "metadata": {},
   "source": [
    "# Medium Production"
   ]
  },
  {
   "cell_type": "code",
   "execution_count": 114,
   "id": "382b85d9",
   "metadata": {},
   "outputs": [
    {
     "data": {
      "text/html": [
       "<div>\n",
       "<style scoped>\n",
       "    .dataframe tbody tr th:only-of-type {\n",
       "        vertical-align: middle;\n",
       "    }\n",
       "\n",
       "    .dataframe tbody tr th {\n",
       "        vertical-align: top;\n",
       "    }\n",
       "\n",
       "    .dataframe thead th {\n",
       "        text-align: right;\n",
       "    }\n",
       "</style>\n",
       "<table border=\"1\" class=\"dataframe\">\n",
       "  <thead>\n",
       "    <tr style=\"text-align: right;\">\n",
       "      <th></th>\n",
       "      <th>Product</th>\n",
       "      <th>Rating</th>\n",
       "      <th>Rating_Count</th>\n",
       "    </tr>\n",
       "  </thead>\n",
       "  <tbody>\n",
       "    <tr>\n",
       "      <th>174</th>\n",
       "      <td>Syncwire LTG to USB Cable for Fast Charging Co...</td>\n",
       "      <td>50</td>\n",
       "      <td>5</td>\n",
       "    </tr>\n",
       "    <tr>\n",
       "      <th>299</th>\n",
       "      <td>WANBO X1 Pro (Upgraded) | Native 1080P Full HD...</td>\n",
       "      <td>45</td>\n",
       "      <td>7</td>\n",
       "    </tr>\n",
       "    <tr>\n",
       "      <th>1222</th>\n",
       "      <td>Kitchenwell Multipurpose Portable Electronic D...</td>\n",
       "      <td>43</td>\n",
       "      <td>7</td>\n",
       "    </tr>\n",
       "  </tbody>\n",
       "</table>\n",
       "</div>"
      ],
      "text/plain": [
       "                                                Product  Rating  Rating_Count\n",
       "174   Syncwire LTG to USB Cable for Fast Charging Co...      50             5\n",
       "299   WANBO X1 Pro (Upgraded) | Native 1080P Full HD...      45             7\n",
       "1222  Kitchenwell Multipurpose Portable Electronic D...      43             7"
      ]
     },
     "execution_count": 114,
     "metadata": {},
     "output_type": "execute_result"
    }
   ],
   "source": [
    "am_top=am.nsmallest(10,[\"Rating_Count\"])\n",
    "am_top[am_top[\"Rating\"]>40]"
   ]
  },
  {
   "cell_type": "markdown",
   "id": "5351587f",
   "metadata": {},
   "source": [
    "# Quality Check"
   ]
  },
  {
   "cell_type": "code",
   "execution_count": 115,
   "id": "0153f4de",
   "metadata": {},
   "outputs": [
    {
     "data": {
      "text/plain": [
       "18307.941860465115"
      ]
     },
     "execution_count": 115,
     "metadata": {},
     "output_type": "execute_result"
    }
   ],
   "source": [
    "am[\"Rating_Count\"].mean()\n"
   ]
  },
  {
   "cell_type": "code",
   "execution_count": 121,
   "id": "caa8ddb7",
   "metadata": {},
   "outputs": [
    {
     "data": {
      "text/html": [
       "<div>\n",
       "<style scoped>\n",
       "    .dataframe tbody tr th:only-of-type {\n",
       "        vertical-align: middle;\n",
       "    }\n",
       "\n",
       "    .dataframe tbody tr th {\n",
       "        vertical-align: top;\n",
       "    }\n",
       "\n",
       "    .dataframe thead th {\n",
       "        text-align: right;\n",
       "    }\n",
       "</style>\n",
       "<table border=\"1\" class=\"dataframe\">\n",
       "  <thead>\n",
       "    <tr style=\"text-align: right;\">\n",
       "      <th></th>\n",
       "      <th>Product</th>\n",
       "      <th>Rating</th>\n",
       "      <th>Rating_Count</th>\n",
       "    </tr>\n",
       "  </thead>\n",
       "  <tbody>\n",
       "    <tr>\n",
       "      <th>415</th>\n",
       "      <td>PTron Tangent Lite Bluetooth 5.0 Earphones wit...</td>\n",
       "      <td>35</td>\n",
       "      <td>83996</td>\n",
       "    </tr>\n",
       "    <tr>\n",
       "      <th>873</th>\n",
       "      <td>HP Deskjet 2331 Colour Printer, Scanner and Co...</td>\n",
       "      <td>35</td>\n",
       "      <td>21762</td>\n",
       "    </tr>\n",
       "    <tr>\n",
       "      <th>597</th>\n",
       "      <td>ZEBRONICS Zeb-Bro in Ear Wired Earphones with ...</td>\n",
       "      <td>35</td>\n",
       "      <td>21764</td>\n",
       "    </tr>\n",
       "  </tbody>\n",
       "</table>\n",
       "</div>"
      ],
      "text/plain": [
       "                                               Product  Rating  Rating_Count\n",
       "415  PTron Tangent Lite Bluetooth 5.0 Earphones wit...      35         83996\n",
       "873  HP Deskjet 2331 Colour Printer, Scanner and Co...      35         21762\n",
       "597  ZEBRONICS Zeb-Bro in Ear Wired Earphones with ...      35         21764"
      ]
     },
     "execution_count": 121,
     "metadata": {},
     "output_type": "execute_result"
    }
   ],
   "source": [
    "\n",
    "am_top=am_top[am_top[\"Rating\"]<36] \n",
    "am_top[am_top[\"Rating_Count\"]>18307]"
   ]
  }
 ],
 "metadata": {
  "kernelspec": {
   "display_name": "Python 3 (ipykernel)",
   "language": "python",
   "name": "python3"
  },
  "language_info": {
   "codemirror_mode": {
    "name": "ipython",
    "version": 3
   },
   "file_extension": ".py",
   "mimetype": "text/x-python",
   "name": "python",
   "nbconvert_exporter": "python",
   "pygments_lexer": "ipython3",
   "version": "3.11.2"
  }
 },
 "nbformat": 4,
 "nbformat_minor": 5
}
