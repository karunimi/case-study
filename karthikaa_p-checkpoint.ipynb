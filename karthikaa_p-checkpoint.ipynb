{
 "cells": [
  {
   "cell_type": "markdown",
   "id": "689c6095",
   "metadata": {},
   "source": [
    "# Data Analysis on Amazon Data Set"
   ]
  },
  {
   "cell_type": "markdown",
   "id": "77930018",
   "metadata": {},
   "source": [
    "### Importing Packages Needed:"
   ]
  },
  {
   "cell_type": "code",
   "execution_count": 19,
   "id": "ea4fecb3",
   "metadata": {},
   "outputs": [],
   "source": [
    "import pandas as pd\n",
    "import numpy as ny\n",
    "import matplotlib as mp"
   ]
  },
  {
   "cell_type": "markdown",
   "id": "711cf586",
   "metadata": {},
   "source": [
    "### Importing the amazon file\n"
   ]
  },
  {
   "cell_type": "code",
   "execution_count": 20,
   "id": "64780da7",
   "metadata": {},
   "outputs": [],
   "source": [
    "amazon=pd.read_csv(\"amazon.csv\")\n",
    "am=pd.read_csv(\"amazon.csv\")"
   ]
  },
  {
   "cell_type": "code",
   "execution_count": 21,
   "id": "9b997027",
   "metadata": {},
   "outputs": [],
   "source": [
    "amazon.drop(1282,axis=0,inplace=True)\n",
    "am.drop(1282,axis=0,inplace=True)"
   ]
  },
  {
   "cell_type": "code",
   "execution_count": 22,
   "id": "14a6edd4",
   "metadata": {},
   "outputs": [],
   "source": [
    "am=pd.DataFrame({\"Product\":amazon[\"product_name\"],\"Rating\":amazon[\"rating\"],\"Rating_Count\":amazon[\"rating_count\"],\"Discount_percentage\":amazon[\"discount_percentage\"]})"
   ]
  },
  {
   "cell_type": "markdown",
   "id": "6064c7e2",
   "metadata": {},
   "source": [
    "# Products in which Profit can be seen:"
   ]
  },
  {
   "cell_type": "markdown",
   "id": "20f7303e",
   "metadata": {},
   "source": [
    "### Converting data into integers for nesseccery columns"
   ]
  },
  {
   "cell_type": "markdown",
   "id": "910e6be1",
   "metadata": {},
   "source": [
    "Rating:"
   ]
  },
  {
   "cell_type": "code",
   "execution_count": null,
   "id": "4d9c3acd",
   "metadata": {},
   "outputs": [],
   "source": [
    "am[\"Rating\"] = am[\"Rating\"].str.replace(\"[,]\", \"\")\n",
    "am[\"Rating\"] = am[\"Rating\"].str.replace(\"[.]\", \"\")\n",
    "am[\"Rating\"] = am[\"Rating\"].str.replace(\"[|]\", \"30\")\n",
    "am[\"Rating\"] = am[\"Rating\"].astype(int)\n",
    "am[\"Rating\"] = am[\"Rating\"].replace({1:10,2:20,3:30,4:40,5:50})"
   ]
  },
  {
   "cell_type": "markdown",
   "id": "6d385613",
   "metadata": {},
   "source": [
    "Rating count:"
   ]
  },
  {
   "cell_type": "code",
   "execution_count": null,
   "id": "2213062f",
   "metadata": {},
   "outputs": [],
   "source": [
    "am[\"Rating_Count\"] = am[\"Rating_Count\"].str.replace(\"[,]\", \"\")\n",
    "am.dropna(inplace=True)\n",
    "am[\"Rating_Count\"] = am[\"Rating_Count\"].astype(int)"
   ]
  },
  {
   "cell_type": "markdown",
   "id": "a695b038",
   "metadata": {},
   "source": [
    "Discount Percentage:"
   ]
  },
  {
   "cell_type": "code",
   "execution_count": null,
   "id": "81447451",
   "metadata": {},
   "outputs": [],
   "source": [
    "am[\"Discount_percentage\"] = am[\"Discount_percentage\"].str.replace(\"[%]\", \"\")\n",
    "am.dropna(inplace=True)\n",
    "am[\"Discount_percentage\"] = am[\"Discount_percentage\"].astype(int)"
   ]
  },
  {
   "cell_type": "markdown",
   "id": "d3064625",
   "metadata": {},
   "source": [
    "# High Selling popular product\n",
    "### These are the products in which we can rise the price amount and can be profited"
   ]
  },
  {
   "cell_type": "code",
   "execution_count": 28,
   "id": "98f4dd98",
   "metadata": {},
   "outputs": [
    {
     "data": {
      "text/html": [
       "<div>\n",
       "<style scoped>\n",
       "    .dataframe tbody tr th:only-of-type {\n",
       "        vertical-align: middle;\n",
       "    }\n",
       "\n",
       "    .dataframe tbody tr th {\n",
       "        vertical-align: top;\n",
       "    }\n",
       "\n",
       "    .dataframe thead th {\n",
       "        text-align: right;\n",
       "    }\n",
       "</style>\n",
       "<table border=\"1\" class=\"dataframe\">\n",
       "  <thead>\n",
       "    <tr style=\"text-align: right;\">\n",
       "      <th></th>\n",
       "      <th>Product</th>\n",
       "      <th>Rating</th>\n",
       "      <th>Rating_Count</th>\n",
       "      <th>Discount_percentage</th>\n",
       "    </tr>\n",
       "  </thead>\n",
       "  <tbody>\n",
       "    <tr>\n",
       "      <th>12</th>\n",
       "      <td>AmazonBasics Flexible Premium HDMI Cable (Blac...</td>\n",
       "      <td>44</td>\n",
       "      <td>426973</td>\n",
       "      <td>69</td>\n",
       "    </tr>\n",
       "    <tr>\n",
       "      <th>47</th>\n",
       "      <td>Amazon Basics High-Speed HDMI Cable, 6 Feet - ...</td>\n",
       "      <td>44</td>\n",
       "      <td>426973</td>\n",
       "      <td>35</td>\n",
       "    </tr>\n",
       "    <tr>\n",
       "      <th>65</th>\n",
       "      <td>Amazon Basics High-Speed HDMI Cable, 6 Feet (2...</td>\n",
       "      <td>44</td>\n",
       "      <td>426973</td>\n",
       "      <td>78</td>\n",
       "    </tr>\n",
       "    <tr>\n",
       "      <th>684</th>\n",
       "      <td>AmazonBasics Flexible Premium HDMI Cable (Blac...</td>\n",
       "      <td>44</td>\n",
       "      <td>426972</td>\n",
       "      <td>69</td>\n",
       "    </tr>\n",
       "  </tbody>\n",
       "</table>\n",
       "</div>"
      ],
      "text/plain": [
       "                                               Product  Rating  Rating_Count  \\\n",
       "12   AmazonBasics Flexible Premium HDMI Cable (Blac...      44        426973   \n",
       "47   Amazon Basics High-Speed HDMI Cable, 6 Feet - ...      44        426973   \n",
       "65   Amazon Basics High-Speed HDMI Cable, 6 Feet (2...      44        426973   \n",
       "684  AmazonBasics Flexible Premium HDMI Cable (Blac...      44        426972   \n",
       "\n",
       "     Discount_percentage  \n",
       "12                    69  \n",
       "47                    35  \n",
       "65                    78  \n",
       "684                   69  "
      ]
     },
     "execution_count": 28,
     "metadata": {},
     "output_type": "execute_result"
    }
   ],
   "source": [
    "am_top=am.nlargest(10,[\"Rating_Count\"])\n",
    "am_top[am_top[\"Rating\"]>43]"
   ]
  }
 ],
 "metadata": {
  "kernelspec": {
   "display_name": "Python 3 (ipykernel)",
   "language": "python",
   "name": "python3"
  },
  "language_info": {
   "codemirror_mode": {
    "name": "ipython",
    "version": 3
   },
   "file_extension": ".py",
   "mimetype": "text/x-python",
   "name": "python",
   "nbconvert_exporter": "python",
   "pygments_lexer": "ipython3",
   "version": "3.11.2"
  }
 },
 "nbformat": 4,
 "nbformat_minor": 5
}
