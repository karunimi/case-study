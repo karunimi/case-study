{
 "cells": [
  {
   "cell_type": "markdown",
   "id": "689c6095",
   "metadata": {},
   "source": [
    "# DATA  ANALYSIS ON AMAZON DATA SET"
   ]
  },
  {
   "cell_type": "markdown",
   "id": "77930018",
   "metadata": {},
   "source": [
    "## Importing Packages "
   ]
  },
  {
   "cell_type": "code",
   "execution_count": 1019,
   "id": "ea4fecb3",
   "metadata": {},
   "outputs": [],
   "source": [
    "import pandas as pd\n",
    "import matplotlib.pyplot as plt"
   ]
  },
  {
   "cell_type": "markdown",
   "id": "711cf586",
   "metadata": {},
   "source": [
    "## Importing the Amazon file\n"
   ]
  },
  {
   "cell_type": "code",
   "execution_count": 1052,
   "id": "3bbaf132",
   "metadata": {},
   "outputs": [],
   "source": [
    "# Importing the amazon.csv file and storing it in two variables.\n",
    "\n",
    "amazon=pd.read_csv(\"amazon.csv\")\n",
    "am=pd.read_csv(\"amazon.csv\")\n",
    "\n",
    "amazon.drop(1282,axis=0,inplace=True)\n",
    "am.drop(1282,axis=0,inplace=True)\n"
   ]
  },
  {
   "cell_type": "code",
   "execution_count": 1021,
   "id": "14a6edd4",
   "metadata": {},
   "outputs": [],
   "source": [
    "am=pd.DataFrame({\"Product\":amazon[\"product_name\"],\"Rating\":amazon[\"rating\"],\"Rating_Count\":amazon[\"rating_count\"],\"Category\":amazon[\"category\"]})\n",
    "amazon_best=pd.DataFrame({\"Product\":amazon[\"product_name\"],\"Rating\":amazon[\"rating\"],\"Rating_Count\":amazon[\"rating_count\"],\"Category\":amazon[\"category\"]})\n"
   ]
  },
  {
   "cell_type": "markdown",
   "id": "20f7303e",
   "metadata": {},
   "source": [
    "## Convertion of data into integers"
   ]
  },
  {
   "cell_type": "code",
   "execution_count": 1022,
   "id": "9eaf213d",
   "metadata": {},
   "outputs": [
    {
     "name": "stderr",
     "output_type": "stream",
     "text": [
      "/tmp/ipykernel_7084/2491069818.py:3: FutureWarning: The default value of regex will change from True to False in a future version.\n",
      "  am[\"Rating\"] = am[\"Rating\"].str.replace(\"[,]\", \"\")\n",
      "/tmp/ipykernel_7084/2491069818.py:4: FutureWarning: The default value of regex will change from True to False in a future version.\n",
      "  am[\"Rating\"] = am[\"Rating\"].str.replace(\"[.]\", \"\")\n",
      "/tmp/ipykernel_7084/2491069818.py:5: FutureWarning: The default value of regex will change from True to False in a future version.\n",
      "  am[\"Rating\"] = am[\"Rating\"].str.replace(\"[|]\", \"30\")\n",
      "/tmp/ipykernel_7084/2491069818.py:12: FutureWarning: The default value of regex will change from True to False in a future version.\n",
      "  am[\"Rating_Count\"] = am[\"Rating_Count\"].str.replace(\"[,]\", \"\")\n",
      "/tmp/ipykernel_7084/2491069818.py:18: FutureWarning: The default value of regex will change from True to False in a future version.\n",
      "  amazon_best[\"Rating_Count\"] = amazon_best[\"Rating_Count\"].str.replace(\"[,]\", \"\")\n",
      "/tmp/ipykernel_7084/2491069818.py:21: FutureWarning: The default value of regex will change from True to False in a future version.\n",
      "  amazon_best[\"Rating\"] = amazon_best[\"Rating\"].str.replace(\"[.]\", \"\")\n",
      "/tmp/ipykernel_7084/2491069818.py:22: FutureWarning: The default value of regex will change from True to False in a future version.\n",
      "  amazon_best[\"Rating\"] = amazon_best[\"Rating\"].str.replace(\"[|]\", \"30\")\n"
     ]
    }
   ],
   "source": [
    "## RATING\n",
    "\n",
    "am[\"Rating\"] = am[\"Rating\"].str.replace(\"[,]\", \"\")\n",
    "am[\"Rating\"] = am[\"Rating\"].str.replace(\"[.]\", \"\")\n",
    "am[\"Rating\"] = am[\"Rating\"].str.replace(\"[|]\", \"30\")\n",
    "am[\"Rating\"] = am[\"Rating\"].astype(int)\n",
    "am[\"Rating\"] = am[\"Rating\"].replace({1:10,2:20,3:30,4:40,5:50})\n",
    "\n",
    "\n",
    "## RATING_COUNT:\n",
    "\n",
    "am[\"Rating_Count\"] = am[\"Rating_Count\"].str.replace(\"[,]\", \"\")\n",
    "am.dropna(inplace=True)\n",
    "am[\"Rating_Count\"] = am[\"Rating_Count\"].astype(int)\n",
    "\n",
    "## BEST_PRODUCT:\n",
    "\n",
    "amazon_best[\"Rating_Count\"] = amazon_best[\"Rating_Count\"].str.replace(\"[,]\", \"\")\n",
    "amazon_best.dropna(inplace=True)\n",
    "amazon_best[\"Rating_Count\"] = amazon_best[\"Rating_Count\"].astype(int)\n",
    "amazon_best[\"Rating\"] = amazon_best[\"Rating\"].str.replace(\"[.]\", \"\")\n",
    "amazon_best[\"Rating\"] = amazon_best[\"Rating\"].str.replace(\"[|]\", \"30\")\n",
    "amazon_best[\"Rating\"] = amazon_best[\"Rating\"].astype(int)\n",
    "amazon_best[\"Rating\"] = amazon_best[\"Rating\"].replace({1:10,2:20,3:30,4:40,5:50})\n"
   ]
  },
  {
   "cell_type": "markdown",
   "id": "6064c7e2",
   "metadata": {},
   "source": [
    "#### ----------------------------------------------------------------------------------------------------------------------------------------------------------------------------------------\n",
    "  #    PRODUCTS IN WHICH PROFIT CAN BE SEEN \n",
    "#### ----------------------------------------------------------------------------------------------------------------------------------------------------------------------------------------"
   ]
  },
  {
   "cell_type": "code",
   "execution_count": 1023,
   "id": "98f4dd98",
   "metadata": {},
   "outputs": [
    {
     "data": {
      "text/html": [
       "<div>\n",
       "<style scoped>\n",
       "    .dataframe tbody tr th:only-of-type {\n",
       "        vertical-align: middle;\n",
       "    }\n",
       "\n",
       "    .dataframe tbody tr th {\n",
       "        vertical-align: top;\n",
       "    }\n",
       "\n",
       "    .dataframe thead th {\n",
       "        text-align: right;\n",
       "    }\n",
       "</style>\n",
       "<table border=\"1\" class=\"dataframe\">\n",
       "  <thead>\n",
       "    <tr style=\"text-align: right;\">\n",
       "      <th></th>\n",
       "      <th>Product</th>\n",
       "      <th>Rating</th>\n",
       "      <th>Rating_Count</th>\n",
       "      <th>Category</th>\n",
       "    </tr>\n",
       "  </thead>\n",
       "  <tbody>\n",
       "    <tr>\n",
       "      <th>12</th>\n",
       "      <td>AmazonBasics Flexible Premium HDMI Cable (Blac...</td>\n",
       "      <td>44</td>\n",
       "      <td>426973</td>\n",
       "      <td>Electronics|HomeTheater,TV&amp;Video|Accessories|C...</td>\n",
       "    </tr>\n",
       "    <tr>\n",
       "      <th>47</th>\n",
       "      <td>Amazon Basics High-Speed HDMI Cable, 6 Feet - ...</td>\n",
       "      <td>44</td>\n",
       "      <td>426973</td>\n",
       "      <td>Electronics|HomeTheater,TV&amp;Video|Accessories|C...</td>\n",
       "    </tr>\n",
       "    <tr>\n",
       "      <th>65</th>\n",
       "      <td>Amazon Basics High-Speed HDMI Cable, 6 Feet (2...</td>\n",
       "      <td>44</td>\n",
       "      <td>426973</td>\n",
       "      <td>Electronics|HomeTheater,TV&amp;Video|Accessories|C...</td>\n",
       "    </tr>\n",
       "    <tr>\n",
       "      <th>684</th>\n",
       "      <td>AmazonBasics Flexible Premium HDMI Cable (Blac...</td>\n",
       "      <td>44</td>\n",
       "      <td>426972</td>\n",
       "      <td>Electronics|HomeTheater,TV&amp;Video|Accessories|C...</td>\n",
       "    </tr>\n",
       "    <tr>\n",
       "      <th>352</th>\n",
       "      <td>boAt Bassheads 100 in Ear Wired Earphones with...</td>\n",
       "      <td>41</td>\n",
       "      <td>363713</td>\n",
       "      <td>Electronics|Headphones,Earbuds&amp;Accessories|Hea...</td>\n",
       "    </tr>\n",
       "    <tr>\n",
       "      <th>400</th>\n",
       "      <td>boAt Bassheads 100 in Ear Wired Earphones with...</td>\n",
       "      <td>41</td>\n",
       "      <td>363713</td>\n",
       "      <td>Electronics|Headphones,Earbuds&amp;Accessories|Hea...</td>\n",
       "    </tr>\n",
       "    <tr>\n",
       "      <th>584</th>\n",
       "      <td>boAt BassHeads 100 in-Ear Wired Headphones wit...</td>\n",
       "      <td>41</td>\n",
       "      <td>363711</td>\n",
       "      <td>Electronics|Headphones,Earbuds&amp;Accessories|Hea...</td>\n",
       "    </tr>\n",
       "    <tr>\n",
       "      <th>370</th>\n",
       "      <td>Redmi 9 Activ (Carbon Black, 4GB RAM, 64GB Sto...</td>\n",
       "      <td>41</td>\n",
       "      <td>313836</td>\n",
       "      <td>Electronics|Mobiles&amp;Accessories|Smartphones&amp;Ba...</td>\n",
       "    </tr>\n",
       "    <tr>\n",
       "      <th>371</th>\n",
       "      <td>Redmi 9A Sport (Coral Green, 2GB RAM, 32GB Sto...</td>\n",
       "      <td>41</td>\n",
       "      <td>313836</td>\n",
       "      <td>Electronics|Mobiles&amp;Accessories|Smartphones&amp;Ba...</td>\n",
       "    </tr>\n",
       "    <tr>\n",
       "      <th>473</th>\n",
       "      <td>Redmi 9A Sport (Carbon Black, 2GB RAM, 32GB St...</td>\n",
       "      <td>41</td>\n",
       "      <td>313832</td>\n",
       "      <td>Electronics|Mobiles&amp;Accessories|Smartphones&amp;Ba...</td>\n",
       "    </tr>\n",
       "  </tbody>\n",
       "</table>\n",
       "</div>"
      ],
      "text/plain": [
       "                                               Product  Rating  Rating_Count  \\\n",
       "12   AmazonBasics Flexible Premium HDMI Cable (Blac...      44        426973   \n",
       "47   Amazon Basics High-Speed HDMI Cable, 6 Feet - ...      44        426973   \n",
       "65   Amazon Basics High-Speed HDMI Cable, 6 Feet (2...      44        426973   \n",
       "684  AmazonBasics Flexible Premium HDMI Cable (Blac...      44        426972   \n",
       "352  boAt Bassheads 100 in Ear Wired Earphones with...      41        363713   \n",
       "400  boAt Bassheads 100 in Ear Wired Earphones with...      41        363713   \n",
       "584  boAt BassHeads 100 in-Ear Wired Headphones wit...      41        363711   \n",
       "370  Redmi 9 Activ (Carbon Black, 4GB RAM, 64GB Sto...      41        313836   \n",
       "371  Redmi 9A Sport (Coral Green, 2GB RAM, 32GB Sto...      41        313836   \n",
       "473  Redmi 9A Sport (Carbon Black, 2GB RAM, 32GB St...      41        313832   \n",
       "\n",
       "                                              Category  \n",
       "12   Electronics|HomeTheater,TV&Video|Accessories|C...  \n",
       "47   Electronics|HomeTheater,TV&Video|Accessories|C...  \n",
       "65   Electronics|HomeTheater,TV&Video|Accessories|C...  \n",
       "684  Electronics|HomeTheater,TV&Video|Accessories|C...  \n",
       "352  Electronics|Headphones,Earbuds&Accessories|Hea...  \n",
       "400  Electronics|Headphones,Earbuds&Accessories|Hea...  \n",
       "584  Electronics|Headphones,Earbuds&Accessories|Hea...  \n",
       "370  Electronics|Mobiles&Accessories|Smartphones&Ba...  \n",
       "371  Electronics|Mobiles&Accessories|Smartphones&Ba...  \n",
       "473  Electronics|Mobiles&Accessories|Smartphones&Ba...  "
      ]
     },
     "execution_count": 1023,
     "metadata": {},
     "output_type": "execute_result"
    }
   ],
   "source": [
    "am_top=am.nlargest(10,[\"Rating_Count\"])\n",
    "am_top[am_top[\"Rating\"]>40]"
   ]
  },
  {
   "cell_type": "markdown",
   "id": "6d1f7277",
   "metadata": {},
   "source": [
    "### _____________________________________________________________________________________________\n",
    "______________________________________________________________________________________________________________________________\n",
    "# Add to recommended products\n",
    " ---------------------------------------------------------"
   ]
  },
  {
   "cell_type": "code",
   "execution_count": 1024,
   "id": "4e1b6dc0",
   "metadata": {},
   "outputs": [
    {
     "data": {
      "text/html": [
       "<div>\n",
       "<style scoped>\n",
       "    .dataframe tbody tr th:only-of-type {\n",
       "        vertical-align: middle;\n",
       "    }\n",
       "\n",
       "    .dataframe tbody tr th {\n",
       "        vertical-align: top;\n",
       "    }\n",
       "\n",
       "    .dataframe thead th {\n",
       "        text-align: right;\n",
       "    }\n",
       "</style>\n",
       "<table border=\"1\" class=\"dataframe\">\n",
       "  <thead>\n",
       "    <tr style=\"text-align: right;\">\n",
       "      <th></th>\n",
       "      <th>Product</th>\n",
       "      <th>Rating</th>\n",
       "      <th>Rating_Count</th>\n",
       "      <th>Category</th>\n",
       "    </tr>\n",
       "  </thead>\n",
       "  <tbody>\n",
       "    <tr>\n",
       "      <th>174</th>\n",
       "      <td>Syncwire LTG to USB Cable for Fast Charging Co...</td>\n",
       "      <td>50</td>\n",
       "      <td>5</td>\n",
       "      <td>Computers&amp;Accessories|Accessories&amp;Peripherals|...</td>\n",
       "    </tr>\n",
       "    <tr>\n",
       "      <th>299</th>\n",
       "      <td>WANBO X1 Pro (Upgraded) | Native 1080P Full HD...</td>\n",
       "      <td>45</td>\n",
       "      <td>7</td>\n",
       "      <td>Electronics|HomeTheater,TV&amp;Video|Projectors</td>\n",
       "    </tr>\n",
       "    <tr>\n",
       "      <th>1222</th>\n",
       "      <td>Kitchenwell Multipurpose Portable Electronic D...</td>\n",
       "      <td>43</td>\n",
       "      <td>7</td>\n",
       "      <td>Home&amp;Kitchen|Kitchen&amp;HomeAppliances|SmallKitch...</td>\n",
       "    </tr>\n",
       "  </tbody>\n",
       "</table>\n",
       "</div>"
      ],
      "text/plain": [
       "                                                Product  Rating  Rating_Count  \\\n",
       "174   Syncwire LTG to USB Cable for Fast Charging Co...      50             5   \n",
       "299   WANBO X1 Pro (Upgraded) | Native 1080P Full HD...      45             7   \n",
       "1222  Kitchenwell Multipurpose Portable Electronic D...      43             7   \n",
       "\n",
       "                                               Category  \n",
       "174   Computers&Accessories|Accessories&Peripherals|...  \n",
       "299         Electronics|HomeTheater,TV&Video|Projectors  \n",
       "1222  Home&Kitchen|Kitchen&HomeAppliances|SmallKitch...  "
      ]
     },
     "execution_count": 1024,
     "metadata": {},
     "output_type": "execute_result"
    }
   ],
   "source": [
    "am_top=am.nsmallest(10,[\"Rating_Count\"])\n",
    "am_top[am_top[\"Rating\"]>40]"
   ]
  },
  {
   "cell_type": "markdown",
   "id": "5351587f",
   "metadata": {},
   "source": [
    "# Quality Check"
   ]
  },
  {
   "cell_type": "code",
   "execution_count": 1025,
   "id": "8cf604c5",
   "metadata": {},
   "outputs": [
    {
     "data": {
      "text/plain": [
       "18307.941860465115"
      ]
     },
     "execution_count": 1025,
     "metadata": {},
     "output_type": "execute_result"
    }
   ],
   "source": [
    "am[\"Rating_Count\"].mean()"
   ]
  },
  {
   "cell_type": "code",
   "execution_count": 1026,
   "id": "840a3c9f",
   "metadata": {},
   "outputs": [
    {
     "data": {
      "text/html": [
       "<div>\n",
       "<style scoped>\n",
       "    .dataframe tbody tr th:only-of-type {\n",
       "        vertical-align: middle;\n",
       "    }\n",
       "\n",
       "    .dataframe tbody tr th {\n",
       "        vertical-align: top;\n",
       "    }\n",
       "\n",
       "    .dataframe thead th {\n",
       "        text-align: right;\n",
       "    }\n",
       "</style>\n",
       "<table border=\"1\" class=\"dataframe\">\n",
       "  <thead>\n",
       "    <tr style=\"text-align: right;\">\n",
       "      <th></th>\n",
       "      <th>Product</th>\n",
       "      <th>Rating</th>\n",
       "      <th>Rating_Count</th>\n",
       "      <th>Category</th>\n",
       "    </tr>\n",
       "  </thead>\n",
       "  <tbody>\n",
       "    <tr>\n",
       "      <th>415</th>\n",
       "      <td>PTron Tangent Lite Bluetooth 5.0 Earphones wit...</td>\n",
       "      <td>35</td>\n",
       "      <td>83996</td>\n",
       "      <td>Electronics|Headphones,Earbuds&amp;Accessories|Hea...</td>\n",
       "    </tr>\n",
       "    <tr>\n",
       "      <th>597</th>\n",
       "      <td>ZEBRONICS Zeb-Bro in Ear Wired Earphones with ...</td>\n",
       "      <td>35</td>\n",
       "      <td>21764</td>\n",
       "      <td>Electronics|Headphones,Earbuds&amp;Accessories|Hea...</td>\n",
       "    </tr>\n",
       "    <tr>\n",
       "      <th>873</th>\n",
       "      <td>HP Deskjet 2331 Colour Printer, Scanner and Co...</td>\n",
       "      <td>35</td>\n",
       "      <td>21762</td>\n",
       "      <td>Computers&amp;Accessories|Printers,Inks&amp;Accessorie...</td>\n",
       "    </tr>\n",
       "  </tbody>\n",
       "</table>\n",
       "</div>"
      ],
      "text/plain": [
       "                                               Product  Rating  Rating_Count  \\\n",
       "415  PTron Tangent Lite Bluetooth 5.0 Earphones wit...      35         83996   \n",
       "597  ZEBRONICS Zeb-Bro in Ear Wired Earphones with ...      35         21764   \n",
       "873  HP Deskjet 2331 Colour Printer, Scanner and Co...      35         21762   \n",
       "\n",
       "                                              Category  \n",
       "415  Electronics|Headphones,Earbuds&Accessories|Hea...  \n",
       "597  Electronics|Headphones,Earbuds&Accessories|Hea...  \n",
       "873  Computers&Accessories|Printers,Inks&Accessorie...  "
      ]
     },
     "execution_count": 1026,
     "metadata": {},
     "output_type": "execute_result"
    }
   ],
   "source": [
    "am_top=am[am[\"Rating\"]<36] \n",
    "am_top[am_top[\"Rating_Count\"]>18307]"
   ]
  },
  {
   "cell_type": "markdown",
   "id": "2aa4731e",
   "metadata": {},
   "source": [
    "## Sales on Categories"
   ]
  },
  {
   "cell_type": "markdown",
   "id": "151fb271",
   "metadata": {},
   "source": [
    "C - Computers&Accessories <br>\n",
    "H - Home&Kitchen <br>\n",
    "E - Electronics <br>\n",
    "M - MusicalInstruments <br>\n",
    "O - OfficeProducts <br>\n",
    "T - Toys&Games <br>"
   ]
  },
  {
   "cell_type": "code",
   "execution_count": 1027,
   "id": "a6abd415",
   "metadata": {},
   "outputs": [
    {
     "data": {
      "image/png": "[encoded data removed]",
      "text/plain": [
       "<Figure size 640x480 with 1 Axes>"
      ]
     },
     "metadata": {},
     "output_type": "display_data"
    }
   ],
   "source": [
    "amazon_best[\"Category\"].str[0:1].hist();"
   ]
  },
  {
   "cell_type": "markdown",
   "id": "ab858b14",
   "metadata": {},
   "source": [
    "## INCREASE THE NUMBER OF PRODUCTS IN :<br>\n",
    " ### MusicalInstruments\n",
    "### OfficeProducts\n",
    " ### Toys&Games"
   ]
  },
  {
   "cell_type": "markdown",
   "id": "a5f83620",
   "metadata": {},
   "source": [
    "## Selective fields Analysis"
   ]
  },
  {
   "cell_type": "markdown",
   "id": "4984130a",
   "metadata": {},
   "source": [
    "# Computers&Accessories"
   ]
  },
  {
   "cell_type": "code",
   "execution_count": 1028,
   "id": "23f79bfc",
   "metadata": {},
   "outputs": [],
   "source": [
    "computer=pd.DataFrame({\"Product\":amazon[\"product_name\"],\"Rating\":amazon[\"rating\"],\"Rating_Count\":amazon[\"rating_count\"],\"Category\":amazon[\"category\"].str[0:1]})"
   ]
  },
  {
   "cell_type": "code",
   "execution_count": 1029,
   "id": "b97de6f0",
   "metadata": {},
   "outputs": [
    {
     "name": "stderr",
     "output_type": "stream",
     "text": [
      "/tmp/ipykernel_7084/1215608568.py:6: FutureWarning: The default value of regex will change from True to False in a future version.\n",
      "  computer[\"Rating_Count\"] = computer[\"Rating_Count\"].str.replace(\"[,]\", \"\")\n",
      "/tmp/ipykernel_7084/1215608568.py:9: FutureWarning: The default value of regex will change from True to False in a future version.\n",
      "  computer[\"Rating\"] = computer[\"Rating\"].str.replace(\"[.]\", \"\")\n"
     ]
    }
   ],
   "source": [
    "computer.drop(computer.index[(computer[\"Category\"]==\"H\")],axis=0,inplace=True)\n",
    "computer.drop(computer.index[(computer[\"Category\"]==\"E\")],axis=0,inplace=True)\n",
    "computer.drop(computer.index[(computer[\"Category\"]==\"M\")],axis=0,inplace=True)\n",
    "computer.drop(computer.index[(computer[\"Category\"]==\"O\")],axis=0,inplace=True)\n",
    "computer.drop(computer.index[(computer[\"Category\"]==\"T\")],axis=0,inplace=True)\n",
    "computer[\"Rating_Count\"] = computer[\"Rating_Count\"].str.replace(\"[,]\", \"\")\n",
    "computer.dropna(inplace=True)\n",
    "computer[\"Rating_Count\"] = computer[\"Rating_Count\"].astype(int)\n",
    "computer[\"Rating\"] = computer[\"Rating\"].str.replace(\"[.]\", \"\")\n",
    "computer[\"Rating\"] = computer[\"Rating\"].astype(int)\n",
    "computer[\"Rating\"] = computer[\"Rating\"].replace({1:10,2:20,3:30,4:40,5:50})\n",
    "computer=computer.drop_duplicates()"
   ]
  },
  {
   "cell_type": "code",
   "execution_count": 1030,
   "id": "8f6fe11a",
   "metadata": {},
   "outputs": [
    {
     "data": {
      "text/html": [
       "<div>\n",
       "<style scoped>\n",
       "    .dataframe tbody tr th:only-of-type {\n",
       "        vertical-align: middle;\n",
       "    }\n",
       "\n",
       "    .dataframe tbody tr th {\n",
       "        vertical-align: top;\n",
       "    }\n",
       "\n",
       "    .dataframe thead th {\n",
       "        text-align: right;\n",
       "    }\n",
       "</style>\n",
       "<table border=\"1\" class=\"dataframe\">\n",
       "  <thead>\n",
       "    <tr style=\"text-align: right;\">\n",
       "      <th></th>\n",
       "      <th>Product</th>\n",
       "      <th>Rating</th>\n",
       "      <th>Rating_Count</th>\n",
       "      <th>Category</th>\n",
       "    </tr>\n",
       "  </thead>\n",
       "  <tbody>\n",
       "    <tr>\n",
       "      <th>588</th>\n",
       "      <td>SanDisk Cruzer Blade 32GB USB Flash Drive</td>\n",
       "      <td>43</td>\n",
       "      <td>253105</td>\n",
       "      <td>C</td>\n",
       "    </tr>\n",
       "    <tr>\n",
       "      <th>718</th>\n",
       "      <td>SanDisk Ultra Dual 64 GB USB 3.0 OTG Pen Drive...</td>\n",
       "      <td>43</td>\n",
       "      <td>189104</td>\n",
       "      <td>C</td>\n",
       "    </tr>\n",
       "    <tr>\n",
       "      <th>143</th>\n",
       "      <td>TP-Link Nano USB WiFi Dongle 150Mbps High Gain...</td>\n",
       "      <td>42</td>\n",
       "      <td>179692</td>\n",
       "      <td>C</td>\n",
       "    </tr>\n",
       "    <tr>\n",
       "      <th>8</th>\n",
       "      <td>TP-Link USB WiFi Adapter for PC(TL-WN725N), N1...</td>\n",
       "      <td>42</td>\n",
       "      <td>179691</td>\n",
       "      <td>C</td>\n",
       "    </tr>\n",
       "    <tr>\n",
       "      <th>56</th>\n",
       "      <td>TP-LINK WiFi Dongle 300 Mbps Mini Wireless Net...</td>\n",
       "      <td>42</td>\n",
       "      <td>179691</td>\n",
       "      <td>C</td>\n",
       "    </tr>\n",
       "    <tr>\n",
       "      <th>191</th>\n",
       "      <td>Amazon Basics USB A to Lightning MFi Certified...</td>\n",
       "      <td>41</td>\n",
       "      <td>178817</td>\n",
       "      <td>C</td>\n",
       "    </tr>\n",
       "    <tr>\n",
       "      <th>701</th>\n",
       "      <td>TP-Link TL-WA850RE Single_Band 300Mbps RJ45 Wi...</td>\n",
       "      <td>42</td>\n",
       "      <td>156638</td>\n",
       "      <td>C</td>\n",
       "    </tr>\n",
       "    <tr>\n",
       "      <th>736</th>\n",
       "      <td>TP-link N300 WiFi Wireless Router TL-WR845N | ...</td>\n",
       "      <td>42</td>\n",
       "      <td>122478</td>\n",
       "      <td>C</td>\n",
       "    </tr>\n",
       "    <tr>\n",
       "      <th>40</th>\n",
       "      <td>AmazonBasics USB 2.0 Cable - A-Male to B-Male ...</td>\n",
       "      <td>45</td>\n",
       "      <td>107687</td>\n",
       "      <td>C</td>\n",
       "    </tr>\n",
       "    <tr>\n",
       "      <th>852</th>\n",
       "      <td>AmazonBasics USB 2.0 Cable - A-Male to B-Male ...</td>\n",
       "      <td>45</td>\n",
       "      <td>107686</td>\n",
       "      <td>C</td>\n",
       "    </tr>\n",
       "  </tbody>\n",
       "</table>\n",
       "</div>"
      ],
      "text/plain": [
       "                                               Product  Rating  Rating_Count  \\\n",
       "588          SanDisk Cruzer Blade 32GB USB Flash Drive      43        253105   \n",
       "718  SanDisk Ultra Dual 64 GB USB 3.0 OTG Pen Drive...      43        189104   \n",
       "143  TP-Link Nano USB WiFi Dongle 150Mbps High Gain...      42        179692   \n",
       "8    TP-Link USB WiFi Adapter for PC(TL-WN725N), N1...      42        179691   \n",
       "56   TP-LINK WiFi Dongle 300 Mbps Mini Wireless Net...      42        179691   \n",
       "191  Amazon Basics USB A to Lightning MFi Certified...      41        178817   \n",
       "701  TP-Link TL-WA850RE Single_Band 300Mbps RJ45 Wi...      42        156638   \n",
       "736  TP-link N300 WiFi Wireless Router TL-WR845N | ...      42        122478   \n",
       "40   AmazonBasics USB 2.0 Cable - A-Male to B-Male ...      45        107687   \n",
       "852  AmazonBasics USB 2.0 Cable - A-Male to B-Male ...      45        107686   \n",
       "\n",
       "    Category  \n",
       "588        C  \n",
       "718        C  \n",
       "143        C  \n",
       "8          C  \n",
       "56         C  \n",
       "191        C  \n",
       "701        C  \n",
       "736        C  \n",
       "40         C  \n",
       "852        C  "
      ]
     },
     "execution_count": 1030,
     "metadata": {},
     "output_type": "execute_result"
    }
   ],
   "source": [
    "computer=computer.nlargest(10,[\"Rating_Count\"])\n",
    "computer[computer[\"Rating\"]>30]"
   ]
  },
  {
   "cell_type": "markdown",
   "id": "2b9c099f",
   "metadata": {},
   "source": [
    "#  Electronics"
   ]
  },
  {
   "cell_type": "code",
   "execution_count": 1031,
   "id": "9aa437f0",
   "metadata": {},
   "outputs": [],
   "source": [
    "electronic=pd.DataFrame({\"Product\":amazon[\"product_name\"],\"Rating\":amazon[\"rating\"],\"Rating_Count\":amazon[\"rating_count\"],\"Category\":amazon[\"category\"].str[0:1]})"
   ]
  },
  {
   "cell_type": "code",
   "execution_count": 1032,
   "id": "dfc973f8",
   "metadata": {},
   "outputs": [
    {
     "name": "stderr",
     "output_type": "stream",
     "text": [
      "/tmp/ipykernel_7084/38423571.py:6: FutureWarning: The default value of regex will change from True to False in a future version.\n",
      "  electronic[\"Rating_Count\"] = electronic[\"Rating_Count\"].str.replace(\"[,]\", \"\")\n",
      "/tmp/ipykernel_7084/38423571.py:9: FutureWarning: The default value of regex will change from True to False in a future version.\n",
      "  electronic[\"Rating\"] = electronic[\"Rating\"].str.replace(\"[.]\", \"\")\n"
     ]
    }
   ],
   "source": [
    "electronic.drop(electronic.index[(electronic[\"Category\"]==\"H\")],axis=0,inplace=True)\n",
    "electronic.drop(electronic.index[(electronic[\"Category\"]==\"C\")],axis=0,inplace=True)\n",
    "electronic.drop(electronic.index[(electronic[\"Category\"]==\"M\")],axis=0,inplace=True)\n",
    "electronic.drop(electronic.index[(electronic[\"Category\"]==\"O\")],axis=0,inplace=True)\n",
    "electronic.drop(electronic.index[(electronic[\"Category\"]==\"T\")],axis=0,inplace=True)\n",
    "electronic[\"Rating_Count\"] = electronic[\"Rating_Count\"].str.replace(\"[,]\", \"\")\n",
    "electronic.dropna(inplace=True)\n",
    "electronic[\"Rating_Count\"] = electronic[\"Rating_Count\"].astype(int)\n",
    "electronic[\"Rating\"] = electronic[\"Rating\"].str.replace(\"[.]\", \"\")\n",
    "electronic[\"Rating\"] = electronic[\"Rating\"].astype(int)\n",
    "electronic[\"Rating\"] = electronic[\"Rating\"].replace({1:10,2:20,3:30,4:40,5:50})\n",
    "electronic=electronic.drop_duplicates()"
   ]
  },
  {
   "cell_type": "code",
   "execution_count": 1033,
   "id": "ae74ec2c",
   "metadata": {},
   "outputs": [
    {
     "data": {
      "text/html": [
       "<div>\n",
       "<style scoped>\n",
       "    .dataframe tbody tr th:only-of-type {\n",
       "        vertical-align: middle;\n",
       "    }\n",
       "\n",
       "    .dataframe tbody tr th {\n",
       "        vertical-align: top;\n",
       "    }\n",
       "\n",
       "    .dataframe thead th {\n",
       "        text-align: right;\n",
       "    }\n",
       "</style>\n",
       "<table border=\"1\" class=\"dataframe\">\n",
       "  <thead>\n",
       "    <tr style=\"text-align: right;\">\n",
       "      <th></th>\n",
       "      <th>Product</th>\n",
       "      <th>Rating</th>\n",
       "      <th>Rating_Count</th>\n",
       "      <th>Category</th>\n",
       "    </tr>\n",
       "  </thead>\n",
       "  <tbody>\n",
       "    <tr>\n",
       "      <th>12</th>\n",
       "      <td>AmazonBasics Flexible Premium HDMI Cable (Blac...</td>\n",
       "      <td>44</td>\n",
       "      <td>426973</td>\n",
       "      <td>E</td>\n",
       "    </tr>\n",
       "    <tr>\n",
       "      <th>47</th>\n",
       "      <td>Amazon Basics High-Speed HDMI Cable, 6 Feet - ...</td>\n",
       "      <td>44</td>\n",
       "      <td>426973</td>\n",
       "      <td>E</td>\n",
       "    </tr>\n",
       "    <tr>\n",
       "      <th>65</th>\n",
       "      <td>Amazon Basics High-Speed HDMI Cable, 6 Feet (2...</td>\n",
       "      <td>44</td>\n",
       "      <td>426973</td>\n",
       "      <td>E</td>\n",
       "    </tr>\n",
       "    <tr>\n",
       "      <th>684</th>\n",
       "      <td>AmazonBasics Flexible Premium HDMI Cable (Blac...</td>\n",
       "      <td>44</td>\n",
       "      <td>426972</td>\n",
       "      <td>E</td>\n",
       "    </tr>\n",
       "    <tr>\n",
       "      <th>352</th>\n",
       "      <td>boAt Bassheads 100 in Ear Wired Earphones with...</td>\n",
       "      <td>41</td>\n",
       "      <td>363713</td>\n",
       "      <td>E</td>\n",
       "    </tr>\n",
       "    <tr>\n",
       "      <th>400</th>\n",
       "      <td>boAt Bassheads 100 in Ear Wired Earphones with...</td>\n",
       "      <td>41</td>\n",
       "      <td>363713</td>\n",
       "      <td>E</td>\n",
       "    </tr>\n",
       "    <tr>\n",
       "      <th>584</th>\n",
       "      <td>boAt BassHeads 100 in-Ear Wired Headphones wit...</td>\n",
       "      <td>41</td>\n",
       "      <td>363711</td>\n",
       "      <td>E</td>\n",
       "    </tr>\n",
       "    <tr>\n",
       "      <th>370</th>\n",
       "      <td>Redmi 9 Activ (Carbon Black, 4GB RAM, 64GB Sto...</td>\n",
       "      <td>41</td>\n",
       "      <td>313836</td>\n",
       "      <td>E</td>\n",
       "    </tr>\n",
       "    <tr>\n",
       "      <th>371</th>\n",
       "      <td>Redmi 9A Sport (Coral Green, 2GB RAM, 32GB Sto...</td>\n",
       "      <td>41</td>\n",
       "      <td>313836</td>\n",
       "      <td>E</td>\n",
       "    </tr>\n",
       "    <tr>\n",
       "      <th>473</th>\n",
       "      <td>Redmi 9A Sport (Carbon Black, 2GB RAM, 32GB St...</td>\n",
       "      <td>41</td>\n",
       "      <td>313832</td>\n",
       "      <td>E</td>\n",
       "    </tr>\n",
       "  </tbody>\n",
       "</table>\n",
       "</div>"
      ],
      "text/plain": [
       "                                               Product  Rating  Rating_Count  \\\n",
       "12   AmazonBasics Flexible Premium HDMI Cable (Blac...      44        426973   \n",
       "47   Amazon Basics High-Speed HDMI Cable, 6 Feet - ...      44        426973   \n",
       "65   Amazon Basics High-Speed HDMI Cable, 6 Feet (2...      44        426973   \n",
       "684  AmazonBasics Flexible Premium HDMI Cable (Blac...      44        426972   \n",
       "352  boAt Bassheads 100 in Ear Wired Earphones with...      41        363713   \n",
       "400  boAt Bassheads 100 in Ear Wired Earphones with...      41        363713   \n",
       "584  boAt BassHeads 100 in-Ear Wired Headphones wit...      41        363711   \n",
       "370  Redmi 9 Activ (Carbon Black, 4GB RAM, 64GB Sto...      41        313836   \n",
       "371  Redmi 9A Sport (Coral Green, 2GB RAM, 32GB Sto...      41        313836   \n",
       "473  Redmi 9A Sport (Carbon Black, 2GB RAM, 32GB St...      41        313832   \n",
       "\n",
       "    Category  \n",
       "12         E  \n",
       "47         E  \n",
       "65         E  \n",
       "684        E  \n",
       "352        E  \n",
       "400        E  \n",
       "584        E  \n",
       "370        E  \n",
       "371        E  \n",
       "473        E  "
      ]
     },
     "execution_count": 1033,
     "metadata": {},
     "output_type": "execute_result"
    }
   ],
   "source": [
    "electronic=electronic.nlargest(10,[\"Rating_Count\"])\n",
    "electronic[electronic[\"Rating\"]>30]"
   ]
  },
  {
   "cell_type": "markdown",
   "id": "f7aae80c",
   "metadata": {},
   "source": [
    "# Home&Kitchen "
   ]
  },
  {
   "cell_type": "code",
   "execution_count": 1034,
   "id": "01f3dd08",
   "metadata": {},
   "outputs": [],
   "source": [
    "home=pd.DataFrame({\"Product\":amazon[\"product_name\"],\"Rating\":amazon[\"rating\"],\"Rating_Count\":amazon[\"rating_count\"],\"Category\":amazon[\"category\"].str[0:1]})"
   ]
  },
  {
   "cell_type": "code",
   "execution_count": 1035,
   "id": "14646da6",
   "metadata": {},
   "outputs": [
    {
     "name": "stderr",
     "output_type": "stream",
     "text": [
      "/tmp/ipykernel_7084/2243105161.py:6: FutureWarning: The default value of regex will change from True to False in a future version.\n",
      "  home[\"Rating_Count\"] = home[\"Rating_Count\"].str.replace(\"[,]\", \"\")\n",
      "/tmp/ipykernel_7084/2243105161.py:9: FutureWarning: The default value of regex will change from True to False in a future version.\n",
      "  home[\"Rating\"] = home[\"Rating\"].str.replace(\"[.]\", \"\")\n",
      "/tmp/ipykernel_7084/2243105161.py:10: FutureWarning: The default value of regex will change from True to False in a future version.\n",
      "  home[\"Rating\"] = home[\"Rating\"].str.replace(\"[|]\", \"30\")\n"
     ]
    }
   ],
   "source": [
    "home.drop(home.index[(home[\"Category\"]==\"E\")],axis=0,inplace=True)\n",
    "home.drop(home.index[(home[\"Category\"]==\"C\")],axis=0,inplace=True)\n",
    "home.drop(home.index[(home[\"Category\"]==\"M\")],axis=0,inplace=True)\n",
    "home.drop(home.index[(home[\"Category\"]==\"O\")],axis=0,inplace=True)\n",
    "home.drop(home.index[(home[\"Category\"]==\"T\")],axis=0,inplace=True)\n",
    "home[\"Rating_Count\"] = home[\"Rating_Count\"].str.replace(\"[,]\", \"\")\n",
    "home.dropna(inplace=True)\n",
    "home[\"Rating_Count\"] = home[\"Rating_Count\"].astype(int)\n",
    "home[\"Rating\"] = home[\"Rating\"].str.replace(\"[.]\", \"\")\n",
    "home[\"Rating\"] = home[\"Rating\"].str.replace(\"[|]\", \"30\")\n",
    "home[\"Rating\"] = home[\"Rating\"].astype(int)\n",
    "home[\"Rating\"] = home[\"Rating\"].replace({1:10,2:20,3:30,4:40,5:50})"
   ]
  },
  {
   "cell_type": "code",
   "execution_count": 1036,
   "id": "c9cd6946",
   "metadata": {},
   "outputs": [
    {
     "data": {
      "text/html": [
       "<div>\n",
       "<style scoped>\n",
       "    .dataframe tbody tr th:only-of-type {\n",
       "        vertical-align: middle;\n",
       "    }\n",
       "\n",
       "    .dataframe tbody tr th {\n",
       "        vertical-align: top;\n",
       "    }\n",
       "\n",
       "    .dataframe thead th {\n",
       "        text-align: right;\n",
       "    }\n",
       "</style>\n",
       "<table border=\"1\" class=\"dataframe\">\n",
       "  <thead>\n",
       "    <tr style=\"text-align: right;\">\n",
       "      <th></th>\n",
       "      <th>Product</th>\n",
       "      <th>Rating</th>\n",
       "      <th>Rating_Count</th>\n",
       "      <th>Category</th>\n",
       "    </tr>\n",
       "  </thead>\n",
       "  <tbody>\n",
       "    <tr>\n",
       "      <th>1028</th>\n",
       "      <td>Pigeon Polypropylene Mini Handy and Compact Ch...</td>\n",
       "      <td>41</td>\n",
       "      <td>270563</td>\n",
       "      <td>H</td>\n",
       "    </tr>\n",
       "    <tr>\n",
       "      <th>1022</th>\n",
       "      <td>Pigeon by Stovekraft Amaze Plus Electric Kettl...</td>\n",
       "      <td>39</td>\n",
       "      <td>123365</td>\n",
       "      <td>H</td>\n",
       "    </tr>\n",
       "    <tr>\n",
       "      <th>1031</th>\n",
       "      <td>Prestige Electric Kettle PKOSS - 1500watts, St...</td>\n",
       "      <td>39</td>\n",
       "      <td>63350</td>\n",
       "      <td>H</td>\n",
       "    </tr>\n",
       "    <tr>\n",
       "      <th>1032</th>\n",
       "      <td>Pigeon by Stovekraft Cruise 1800 watt Inductio...</td>\n",
       "      <td>38</td>\n",
       "      <td>54032</td>\n",
       "      <td>H</td>\n",
       "    </tr>\n",
       "    <tr>\n",
       "      <th>1145</th>\n",
       "      <td>Swiffer Instant Electric Water Heater Faucet T...</td>\n",
       "      <td>48</td>\n",
       "      <td>53803</td>\n",
       "      <td>H</td>\n",
       "    </tr>\n",
       "    <tr>\n",
       "      <th>1077</th>\n",
       "      <td>Bajaj DX-7 1000W Dry Iron with Advance Solepla...</td>\n",
       "      <td>42</td>\n",
       "      <td>46647</td>\n",
       "      <td>H</td>\n",
       "    </tr>\n",
       "    <tr>\n",
       "      <th>1027</th>\n",
       "      <td>Glun Multipurpose Portable Electronic Digital ...</td>\n",
       "      <td>39</td>\n",
       "      <td>44994</td>\n",
       "      <td>H</td>\n",
       "    </tr>\n",
       "    <tr>\n",
       "      <th>1045</th>\n",
       "      <td>Lifelong LLMG23 Power Pro 500-Watt Mixer Grind...</td>\n",
       "      <td>38</td>\n",
       "      <td>44050</td>\n",
       "      <td>H</td>\n",
       "    </tr>\n",
       "    <tr>\n",
       "      <th>1130</th>\n",
       "      <td>Prestige Iris 750 Watt Mixer Grinder with 3 St...</td>\n",
       "      <td>39</td>\n",
       "      <td>43070</td>\n",
       "      <td>H</td>\n",
       "    </tr>\n",
       "    <tr>\n",
       "      <th>1047</th>\n",
       "      <td>Bajaj Rex 500W Mixer Grinder with Nutri-Pro Fe...</td>\n",
       "      <td>42</td>\n",
       "      <td>41349</td>\n",
       "      <td>H</td>\n",
       "    </tr>\n",
       "  </tbody>\n",
       "</table>\n",
       "</div>"
      ],
      "text/plain": [
       "                                                Product  Rating  Rating_Count  \\\n",
       "1028  Pigeon Polypropylene Mini Handy and Compact Ch...      41        270563   \n",
       "1022  Pigeon by Stovekraft Amaze Plus Electric Kettl...      39        123365   \n",
       "1031  Prestige Electric Kettle PKOSS - 1500watts, St...      39         63350   \n",
       "1032  Pigeon by Stovekraft Cruise 1800 watt Inductio...      38         54032   \n",
       "1145  Swiffer Instant Electric Water Heater Faucet T...      48         53803   \n",
       "1077  Bajaj DX-7 1000W Dry Iron with Advance Solepla...      42         46647   \n",
       "1027  Glun Multipurpose Portable Electronic Digital ...      39         44994   \n",
       "1045  Lifelong LLMG23 Power Pro 500-Watt Mixer Grind...      38         44050   \n",
       "1130  Prestige Iris 750 Watt Mixer Grinder with 3 St...      39         43070   \n",
       "1047  Bajaj Rex 500W Mixer Grinder with Nutri-Pro Fe...      42         41349   \n",
       "\n",
       "     Category  \n",
       "1028        H  \n",
       "1022        H  \n",
       "1031        H  \n",
       "1032        H  \n",
       "1145        H  \n",
       "1077        H  \n",
       "1027        H  \n",
       "1045        H  \n",
       "1130        H  \n",
       "1047        H  "
      ]
     },
     "execution_count": 1036,
     "metadata": {},
     "output_type": "execute_result"
    }
   ],
   "source": [
    "home=home.nlargest(10,[\"Rating_Count\"])\n",
    "home[home[\"Rating\"]>30]"
   ]
  },
  {
   "cell_type": "markdown",
   "id": "75a42416",
   "metadata": {},
   "source": [
    "# Discount Analysis"
   ]
  },
  {
   "cell_type": "code",
   "execution_count": 1037,
   "id": "e7ff0ecb",
   "metadata": {},
   "outputs": [],
   "source": [
    "dis=pd.DataFrame({\"Product\":amazon[\"product_name\"],\"Rating\":amazon[\"rating\"],\"Rating_Count\":amazon[\"rating_count\"],\"Amount\":amazon[\"discounted_price\"],\"Category\":amazon[\"category\"],\"Discount\":amazon[\"discount_percentage\"]})"
   ]
  },
  {
   "cell_type": "code",
   "execution_count": 1038,
   "id": "0afa3f8c",
   "metadata": {},
   "outputs": [],
   "source": [
    "dis=dis.drop_duplicates()"
   ]
  },
  {
   "cell_type": "code",
   "execution_count": 1039,
   "id": "2ffecab7",
   "metadata": {},
   "outputs": [
    {
     "name": "stderr",
     "output_type": "stream",
     "text": [
      "/tmp/ipykernel_7084/143497948.py:1: FutureWarning: The default value of regex will change from True to False in a future version.\n",
      "  dis[\"Discount\"] = dis[\"Discount\"].str.replace(\"[%]\", \"\")\n",
      "/tmp/ipykernel_7084/143497948.py:3: FutureWarning: The default value of regex will change from True to False in a future version.\n",
      "  dis[\"Rating_Count\"] = dis[\"Rating_Count\"].str.replace(\"[,]\", \"\")\n",
      "/tmp/ipykernel_7084/143497948.py:6: FutureWarning: The default value of regex will change from True to False in a future version.\n",
      "  dis[\"Rating\"] = dis[\"Rating\"].str.replace(\"[.]\", \"\")\n",
      "/tmp/ipykernel_7084/143497948.py:7: FutureWarning: The default value of regex will change from True to False in a future version.\n",
      "  dis[\"Rating\"] = dis[\"Rating\"].str.replace(\"[|]\", \"30\")\n"
     ]
    }
   ],
   "source": [
    "dis[\"Discount\"] = dis[\"Discount\"].str.replace(\"[%]\", \"\")\n",
    "dis[\"Discount\"] = dis[\"Discount\"].astype(int)\n",
    "dis[\"Rating_Count\"] = dis[\"Rating_Count\"].str.replace(\"[,]\", \"\")\n",
    "dis.dropna(inplace=True)\n",
    "dis[\"Rating_Count\"] = dis[\"Rating_Count\"].astype(int)\n",
    "dis[\"Rating\"] = dis[\"Rating\"].str.replace(\"[.]\", \"\")\n",
    "dis[\"Rating\"] = dis[\"Rating\"].str.replace(\"[|]\", \"30\")\n",
    "dis[\"Rating\"] = dis[\"Rating\"].astype(int)\n",
    "dis[\"Rating\"] = dis[\"Rating\"].replace({1:10,2:20,3:30,4:40,5:50})"
   ]
  },
  {
   "cell_type": "markdown",
   "id": "8735aebd",
   "metadata": {},
   "source": [
    "### Less Discount but Higher rating"
   ]
  },
  {
   "cell_type": "code",
   "execution_count": 1040,
   "id": "3e0f039c",
   "metadata": {},
   "outputs": [
    {
     "data": {
      "text/html": [
       "<div>\n",
       "<style scoped>\n",
       "    .dataframe tbody tr th:only-of-type {\n",
       "        vertical-align: middle;\n",
       "    }\n",
       "\n",
       "    .dataframe tbody tr th {\n",
       "        vertical-align: top;\n",
       "    }\n",
       "\n",
       "    .dataframe thead th {\n",
       "        text-align: right;\n",
       "    }\n",
       "</style>\n",
       "<table border=\"1\" class=\"dataframe\">\n",
       "  <thead>\n",
       "    <tr style=\"text-align: right;\">\n",
       "      <th></th>\n",
       "      <th>Product</th>\n",
       "      <th>Rating</th>\n",
       "      <th>Rating_Count</th>\n",
       "      <th>Amount</th>\n",
       "      <th>Category</th>\n",
       "      <th>Discount</th>\n",
       "    </tr>\n",
       "  </thead>\n",
       "  <tbody>\n",
       "    <tr>\n",
       "      <th>264</th>\n",
       "      <td>Realme Smart TV Stick 4K</td>\n",
       "      <td>45</td>\n",
       "      <td>224</td>\n",
       "      <td>₹4,699</td>\n",
       "      <td>Electronics|HomeAudio|MediaStreamingDevices|St...</td>\n",
       "      <td>0</td>\n",
       "    </tr>\n",
       "    <tr>\n",
       "      <th>637</th>\n",
       "      <td>Casio FX-991ES Plus-2nd Edition Scientific Cal...</td>\n",
       "      <td>45</td>\n",
       "      <td>5760</td>\n",
       "      <td>₹1,295</td>\n",
       "      <td>OfficeProducts|OfficeElectronics|Calculators|S...</td>\n",
       "      <td>0</td>\n",
       "    </tr>\n",
       "    <tr>\n",
       "      <th>703</th>\n",
       "      <td>Fujifilm Instax Mini Single Pack 10 Sheets Ins...</td>\n",
       "      <td>45</td>\n",
       "      <td>4875</td>\n",
       "      <td>₹549</td>\n",
       "      <td>Electronics|Cameras&amp;Photography|Accessories|Film</td>\n",
       "      <td>0</td>\n",
       "    </tr>\n",
       "    <tr>\n",
       "      <th>739</th>\n",
       "      <td>Casio MJ-12D 150 Steps Check and Correct Deskt...</td>\n",
       "      <td>45</td>\n",
       "      <td>8610</td>\n",
       "      <td>₹440</td>\n",
       "      <td>OfficeProducts|OfficeElectronics|Calculators|B...</td>\n",
       "      <td>0</td>\n",
       "    </tr>\n",
       "    <tr>\n",
       "      <th>887</th>\n",
       "      <td>Camel Artist Acrylic Color Box - 9ml Tubes, 12...</td>\n",
       "      <td>45</td>\n",
       "      <td>5882</td>\n",
       "      <td>₹310</td>\n",
       "      <td>Home&amp;Kitchen|CraftMaterials|PaintingMaterials|...</td>\n",
       "      <td>0</td>\n",
       "    </tr>\n",
       "    <tr>\n",
       "      <th>971</th>\n",
       "      <td>Classmate Long Book - Unruled, 160 Pages, 314 ...</td>\n",
       "      <td>45</td>\n",
       "      <td>1674</td>\n",
       "      <td>₹165</td>\n",
       "      <td>OfficeProducts|OfficePaperProducts|Paper|Stati...</td>\n",
       "      <td>0</td>\n",
       "    </tr>\n",
       "    <tr>\n",
       "      <th>984</th>\n",
       "      <td>Camel Oil Pastel with Reusable Plastic Box - 5...</td>\n",
       "      <td>45</td>\n",
       "      <td>9427</td>\n",
       "      <td>₹230</td>\n",
       "      <td>Home&amp;Kitchen|CraftMaterials|PaintingMaterials</td>\n",
       "      <td>0</td>\n",
       "    </tr>\n",
       "    <tr>\n",
       "      <th>1002</th>\n",
       "      <td>Classmate Drawing Book - Unruled, 40 Pages, 21...</td>\n",
       "      <td>45</td>\n",
       "      <td>4951</td>\n",
       "      <td>₹120</td>\n",
       "      <td>OfficeProducts|OfficePaperProducts|Paper|Stati...</td>\n",
       "      <td>0</td>\n",
       "    </tr>\n",
       "    <tr>\n",
       "      <th>1111</th>\n",
       "      <td>Philips Daily Collection HD2582/00 830-Watt 2-...</td>\n",
       "      <td>45</td>\n",
       "      <td>7949</td>\n",
       "      <td>₹2,095</td>\n",
       "      <td>Home&amp;Kitchen|Kitchen&amp;HomeAppliances|SmallKitch...</td>\n",
       "      <td>0</td>\n",
       "    </tr>\n",
       "  </tbody>\n",
       "</table>\n",
       "</div>"
      ],
      "text/plain": [
       "                                                Product  Rating  Rating_Count  \\\n",
       "264                            Realme Smart TV Stick 4K      45           224   \n",
       "637   Casio FX-991ES Plus-2nd Edition Scientific Cal...      45          5760   \n",
       "703   Fujifilm Instax Mini Single Pack 10 Sheets Ins...      45          4875   \n",
       "739   Casio MJ-12D 150 Steps Check and Correct Deskt...      45          8610   \n",
       "887   Camel Artist Acrylic Color Box - 9ml Tubes, 12...      45          5882   \n",
       "971   Classmate Long Book - Unruled, 160 Pages, 314 ...      45          1674   \n",
       "984   Camel Oil Pastel with Reusable Plastic Box - 5...      45          9427   \n",
       "1002  Classmate Drawing Book - Unruled, 40 Pages, 21...      45          4951   \n",
       "1111  Philips Daily Collection HD2582/00 830-Watt 2-...      45          7949   \n",
       "\n",
       "      Amount                                           Category  Discount  \n",
       "264   ₹4,699  Electronics|HomeAudio|MediaStreamingDevices|St...         0  \n",
       "637   ₹1,295  OfficeProducts|OfficeElectronics|Calculators|S...         0  \n",
       "703     ₹549   Electronics|Cameras&Photography|Accessories|Film         0  \n",
       "739     ₹440  OfficeProducts|OfficeElectronics|Calculators|B...         0  \n",
       "887     ₹310  Home&Kitchen|CraftMaterials|PaintingMaterials|...         0  \n",
       "971     ₹165  OfficeProducts|OfficePaperProducts|Paper|Stati...         0  \n",
       "984     ₹230      Home&Kitchen|CraftMaterials|PaintingMaterials         0  \n",
       "1002    ₹120  OfficeProducts|OfficePaperProducts|Paper|Stati...         0  \n",
       "1111  ₹2,095  Home&Kitchen|Kitchen&HomeAppliances|SmallKitch...         0  "
      ]
     },
     "execution_count": 1040,
     "metadata": {},
     "output_type": "execute_result"
    }
   ],
   "source": [
    "\n",
    "dis[(dis.Rating > 44) & (dis.Discount == 0)]"
   ]
  },
  {
   "cell_type": "markdown",
   "id": "098276eb",
   "metadata": {},
   "source": [
    "### Highest Rating_Count , Discount & Rating"
   ]
  },
  {
   "cell_type": "code",
   "execution_count": 1041,
   "id": "ea071dea",
   "metadata": {},
   "outputs": [
    {
     "data": {
      "text/html": [
       "<div>\n",
       "<style scoped>\n",
       "    .dataframe tbody tr th:only-of-type {\n",
       "        vertical-align: middle;\n",
       "    }\n",
       "\n",
       "    .dataframe tbody tr th {\n",
       "        vertical-align: top;\n",
       "    }\n",
       "\n",
       "    .dataframe thead th {\n",
       "        text-align: right;\n",
       "    }\n",
       "</style>\n",
       "<table border=\"1\" class=\"dataframe\">\n",
       "  <thead>\n",
       "    <tr style=\"text-align: right;\">\n",
       "      <th></th>\n",
       "      <th>Product</th>\n",
       "      <th>Rating</th>\n",
       "      <th>Rating_Count</th>\n",
       "      <th>Amount</th>\n",
       "      <th>Category</th>\n",
       "      <th>Discount</th>\n",
       "    </tr>\n",
       "  </thead>\n",
       "  <tbody>\n",
       "    <tr>\n",
       "      <th>656</th>\n",
       "      <td>Boult Audio Probass Curve Bluetooth Wireless i...</td>\n",
       "      <td>38</td>\n",
       "      <td>103052</td>\n",
       "      <td>₹899</td>\n",
       "      <td>Electronics|Headphones,Earbuds&amp;Accessories|Hea...</td>\n",
       "      <td>80</td>\n",
       "    </tr>\n",
       "    <tr>\n",
       "      <th>65</th>\n",
       "      <td>Amazon Basics High-Speed HDMI Cable, 6 Feet (2...</td>\n",
       "      <td>44</td>\n",
       "      <td>426973</td>\n",
       "      <td>₹309</td>\n",
       "      <td>Electronics|HomeTheater,TV&amp;Video|Accessories|C...</td>\n",
       "      <td>78</td>\n",
       "    </tr>\n",
       "    <tr>\n",
       "      <th>641</th>\n",
       "      <td>Samsung EVO Plus 128GB microSDXC UHS-I U3 130M...</td>\n",
       "      <td>43</td>\n",
       "      <td>140035</td>\n",
       "      <td>₹1,059</td>\n",
       "      <td>Electronics|Accessories|MemoryCards|MicroSD</td>\n",
       "      <td>74</td>\n",
       "    </tr>\n",
       "    <tr>\n",
       "      <th>397</th>\n",
       "      <td>Samsung EVO Plus 128GB microSDXC UHS-I U3 130M...</td>\n",
       "      <td>43</td>\n",
       "      <td>140036</td>\n",
       "      <td>₹1,149</td>\n",
       "      <td>Electronics|Accessories|MemoryCards|MicroSD</td>\n",
       "      <td>71</td>\n",
       "    </tr>\n",
       "    <tr>\n",
       "      <th>40</th>\n",
       "      <td>AmazonBasics USB 2.0 Cable - A-Male to B-Male ...</td>\n",
       "      <td>45</td>\n",
       "      <td>107687</td>\n",
       "      <td>₹209</td>\n",
       "      <td>Computers&amp;Accessories|Accessories&amp;Peripherals|...</td>\n",
       "      <td>70</td>\n",
       "    </tr>\n",
       "    <tr>\n",
       "      <th>852</th>\n",
       "      <td>AmazonBasics USB 2.0 Cable - A-Male to B-Male ...</td>\n",
       "      <td>45</td>\n",
       "      <td>107686</td>\n",
       "      <td>₹209</td>\n",
       "      <td>Computers&amp;Accessories|Accessories&amp;Peripherals|...</td>\n",
       "      <td>70</td>\n",
       "    </tr>\n",
       "    <tr>\n",
       "      <th>12</th>\n",
       "      <td>AmazonBasics Flexible Premium HDMI Cable (Blac...</td>\n",
       "      <td>44</td>\n",
       "      <td>426973</td>\n",
       "      <td>₹219</td>\n",
       "      <td>Electronics|HomeTheater,TV&amp;Video|Accessories|C...</td>\n",
       "      <td>69</td>\n",
       "    </tr>\n",
       "    <tr>\n",
       "      <th>684</th>\n",
       "      <td>AmazonBasics Flexible Premium HDMI Cable (Blac...</td>\n",
       "      <td>44</td>\n",
       "      <td>426972</td>\n",
       "      <td>₹219</td>\n",
       "      <td>Electronics|HomeTheater,TV&amp;Video|Accessories|C...</td>\n",
       "      <td>69</td>\n",
       "    </tr>\n",
       "    <tr>\n",
       "      <th>639</th>\n",
       "      <td>boAt Bassheads 242 in Ear Wired Earphones with...</td>\n",
       "      <td>41</td>\n",
       "      <td>161677</td>\n",
       "      <td>₹455</td>\n",
       "      <td>Electronics|Headphones,Earbuds&amp;Accessories|Hea...</td>\n",
       "      <td>69</td>\n",
       "    </tr>\n",
       "    <tr>\n",
       "      <th>599</th>\n",
       "      <td>boAt Rockerz 450 Bluetooth On Ear Headphones w...</td>\n",
       "      <td>41</td>\n",
       "      <td>107151</td>\n",
       "      <td>₹1,220</td>\n",
       "      <td>Electronics|Headphones,Earbuds&amp;Accessories|Hea...</td>\n",
       "      <td>69</td>\n",
       "    </tr>\n",
       "  </tbody>\n",
       "</table>\n",
       "</div>"
      ],
      "text/plain": [
       "                                               Product  Rating  Rating_Count  \\\n",
       "656  Boult Audio Probass Curve Bluetooth Wireless i...      38        103052   \n",
       "65   Amazon Basics High-Speed HDMI Cable, 6 Feet (2...      44        426973   \n",
       "641  Samsung EVO Plus 128GB microSDXC UHS-I U3 130M...      43        140035   \n",
       "397  Samsung EVO Plus 128GB microSDXC UHS-I U3 130M...      43        140036   \n",
       "40   AmazonBasics USB 2.0 Cable - A-Male to B-Male ...      45        107687   \n",
       "852  AmazonBasics USB 2.0 Cable - A-Male to B-Male ...      45        107686   \n",
       "12   AmazonBasics Flexible Premium HDMI Cable (Blac...      44        426973   \n",
       "684  AmazonBasics Flexible Premium HDMI Cable (Blac...      44        426972   \n",
       "639  boAt Bassheads 242 in Ear Wired Earphones with...      41        161677   \n",
       "599  boAt Rockerz 450 Bluetooth On Ear Headphones w...      41        107151   \n",
       "\n",
       "     Amount                                           Category  Discount  \n",
       "656    ₹899  Electronics|Headphones,Earbuds&Accessories|Hea...        80  \n",
       "65     ₹309  Electronics|HomeTheater,TV&Video|Accessories|C...        78  \n",
       "641  ₹1,059        Electronics|Accessories|MemoryCards|MicroSD        74  \n",
       "397  ₹1,149        Electronics|Accessories|MemoryCards|MicroSD        71  \n",
       "40     ₹209  Computers&Accessories|Accessories&Peripherals|...        70  \n",
       "852    ₹209  Computers&Accessories|Accessories&Peripherals|...        70  \n",
       "12     ₹219  Electronics|HomeTheater,TV&Video|Accessories|C...        69  \n",
       "684    ₹219  Electronics|HomeTheater,TV&Video|Accessories|C...        69  \n",
       "639    ₹455  Electronics|Headphones,Earbuds&Accessories|Hea...        69  \n",
       "599  ₹1,220  Electronics|Headphones,Earbuds&Accessories|Hea...        69  "
      ]
     },
     "execution_count": 1041,
     "metadata": {},
     "output_type": "execute_result"
    }
   ],
   "source": [
    "large=dis.nlargest(50,[\"Rating_Count\"])\n",
    "large.nlargest(10,[\"Discount\"])"
   ]
  },
  {
   "cell_type": "markdown",
   "id": "b2f0b861",
   "metadata": {},
   "source": [
    "##### ________________________________________________________________________________________________________________________"
   ]
  },
  {
   "cell_type": "markdown",
   "id": "c6daecc6",
   "metadata": {},
   "source": [
    "# REVENUE"
   ]
  },
  {
   "cell_type": "code",
   "execution_count": 1042,
   "id": "c3c0c504",
   "metadata": {},
   "outputs": [],
   "source": [
    "am_rev=pd.DataFrame({\"Amount\":amazon[\"discounted_price\"],\"Rating_Count\":amazon[\"rating_count\"],\"Category\":amazon[\"category\"].str[0:1]})\n",
    "am_C=pd.DataFrame({\"Amount\":amazon[\"discounted_price\"],\"Rating_Count\":amazon[\"rating_count\"],\"Category\":amazon[\"category\"].str[0:1]})\n",
    "am_E=pd.DataFrame({\"Amount\":amazon[\"discounted_price\"],\"Rating_Count\":amazon[\"rating_count\"],\"Category\":amazon[\"category\"].str[0:1]})\n",
    "am_H=pd.DataFrame({\"Amount\":amazon[\"discounted_price\"],\"Rating_Count\":amazon[\"rating_count\"],\"Category\":amazon[\"category\"].str[0:1]})\n",
    "am_T=pd.DataFrame({\"Amount\":amazon[\"discounted_price\"],\"Rating_Count\":amazon[\"rating_count\"],\"Category\":amazon[\"category\"].str[0:1]})\n",
    "am_O=pd.DataFrame({\"Amount\":amazon[\"discounted_price\"],\"Rating_Count\":amazon[\"rating_count\"],\"Category\":amazon[\"category\"].str[0:1]})\n",
    "am_M=pd.DataFrame({\"Amount\":amazon[\"discounted_price\"],\"Rating_Count\":amazon[\"rating_count\"],\"Category\":amazon[\"category\"].str[0:1]})"
   ]
  },
  {
   "cell_type": "code",
   "execution_count": 1043,
   "id": "cae6048b",
   "metadata": {},
   "outputs": [
    {
     "name": "stderr",
     "output_type": "stream",
     "text": [
      "/tmp/ipykernel_7084/230778884.py:4: FutureWarning: The default value of regex will change from True to False in a future version.\n",
      "  am_rev[\"Rating_Count\"] = am_rev[\"Rating_Count\"].str.replace(\"[,]\", \"\")\n",
      "/tmp/ipykernel_7084/230778884.py:16: FutureWarning: The default value of regex will change from True to False in a future version.\n",
      "  am_C[\"Rating_Count\"] = am_C[\"Rating_Count\"].str.replace(\"[,]\", \"\")\n",
      "/tmp/ipykernel_7084/230778884.py:27: FutureWarning: The default value of regex will change from True to False in a future version.\n",
      "  am_E[\"Rating_Count\"] = am_E[\"Rating_Count\"].str.replace(\"[,]\", \"\")\n",
      "/tmp/ipykernel_7084/230778884.py:38: FutureWarning: The default value of regex will change from True to False in a future version.\n",
      "  am_H[\"Rating_Count\"] = am_H[\"Rating_Count\"].str.replace(\"[,]\", \"\")\n",
      "/tmp/ipykernel_7084/230778884.py:50: FutureWarning: The default value of regex will change from True to False in a future version.\n",
      "  am_T[\"Rating_Count\"] = am_T[\"Rating_Count\"].str.replace(\"[,]\", \"\")\n",
      "/tmp/ipykernel_7084/230778884.py:62: FutureWarning: The default value of regex will change from True to False in a future version.\n",
      "  am_M[\"Rating_Count\"] = am_M[\"Rating_Count\"].str.replace(\"[,]\", \"\")\n",
      "/tmp/ipykernel_7084/230778884.py:74: FutureWarning: The default value of regex will change from True to False in a future version.\n",
      "  am_O[\"Rating_Count\"] = am_O[\"Rating_Count\"].str.replace(\"[,]\", \"\")\n"
     ]
    }
   ],
   "source": [
    "am_rev['Amount'] = am_rev['Amount'].replace('[\\₹\\,\\.]', '', regex=True).astype(int)\n",
    "## RATING_COUNT:\n",
    "\n",
    "am_rev[\"Rating_Count\"] = am_rev[\"Rating_Count\"].str.replace(\"[,]\", \"\")\n",
    "am_rev.dropna(inplace=True)\n",
    "am_rev[\"Rating_Count\"] = am_rev[\"Rating_Count\"].astype(int)\n",
    "\n",
    "\n",
    "\n",
    "\n",
    "\n",
    "\n",
    "am_C['Amount'] = am_C['Amount'].replace('[\\₹\\,\\.]', '', regex=True).astype(int)\n",
    "## RATING_COUNT:\n",
    "\n",
    "am_C[\"Rating_Count\"] = am_C[\"Rating_Count\"].str.replace(\"[,]\", \"\")\n",
    "am_C.dropna(inplace=True)\n",
    "am_C[\"Rating_Count\"] = am_C[\"Rating_Count\"].astype(int)\n",
    "\n",
    "\n",
    "\n",
    "\n",
    "\n",
    "am_E['Amount'] = am_E['Amount'].replace('[\\₹\\,\\.]', '', regex=True).astype(int)\n",
    "## RATING_COUNT:\n",
    "\n",
    "am_E[\"Rating_Count\"] = am_E[\"Rating_Count\"].str.replace(\"[,]\", \"\")\n",
    "am_E.dropna(inplace=True)\n",
    "am_E[\"Rating_Count\"] = am_E[\"Rating_Count\"].astype(int)\n",
    "\n",
    "\n",
    "\n",
    "\n",
    "\n",
    "am_H['Amount'] = am_H['Amount'].replace('[\\₹\\,\\.]', '', regex=True).astype(int)\n",
    "## RATING_COUNT:\n",
    "\n",
    "am_H[\"Rating_Count\"] = am_H[\"Rating_Count\"].str.replace(\"[,]\", \"\")\n",
    "am_H.dropna(inplace=True)\n",
    "am_H[\"Rating_Count\"] = am_H[\"Rating_Count\"].astype(int)\n",
    "\n",
    "\n",
    "\n",
    "\n",
    "\n",
    "\n",
    "am_T['Amount'] = am_T['Amount'].replace('[\\₹\\,\\.]', '', regex=True).astype(int)\n",
    "## RATING_COUNT:\n",
    "\n",
    "am_T[\"Rating_Count\"] = am_T[\"Rating_Count\"].str.replace(\"[,]\", \"\")\n",
    "am_T.dropna(inplace=True)\n",
    "am_T[\"Rating_Count\"] = am_T[\"Rating_Count\"].astype(int)\n",
    "\n",
    "\n",
    "\n",
    "\n",
    "\n",
    "\n",
    "am_M['Amount'] = am_M['Amount'].replace('[\\₹\\,\\.]', '', regex=True).astype(int)\n",
    "## RATING_COUNT:\n",
    "\n",
    "am_M[\"Rating_Count\"] = am_M[\"Rating_Count\"].str.replace(\"[,]\", \"\")\n",
    "am_M.dropna(inplace=True)\n",
    "am_M[\"Rating_Count\"] = am_M[\"Rating_Count\"].astype(int)\n",
    "\n",
    "\n",
    "\n",
    "\n",
    "\n",
    "\n",
    "am_O['Amount'] = am_O['Amount'].replace('[\\₹\\,\\.]', '', regex=True).astype(int)\n",
    "## RATING_COUNT:\n",
    "\n",
    "am_O[\"Rating_Count\"] = am_O[\"Rating_Count\"].str.replace(\"[,]\", \"\")\n",
    "am_O.dropna(inplace=True)\n",
    "am_O[\"Rating_Count\"] = am_O[\"Rating_Count\"].astype(int)"
   ]
  },
  {
   "cell_type": "code",
   "execution_count": 1044,
   "id": "d490b87c",
   "metadata": {},
   "outputs": [],
   "source": [
    "am_rev['revenue'] = am_rev.Amount * am_rev.Rating_Count"
   ]
  },
  {
   "cell_type": "code",
   "execution_count": 1045,
   "id": "d0319376",
   "metadata": {},
   "outputs": [],
   "source": [
    "mean=am_rev['revenue'].mean()"
   ]
  },
  {
   "cell_type": "code",
   "execution_count": 1046,
   "id": "3cda0164",
   "metadata": {},
   "outputs": [
    {
     "name": "stdout",
     "output_type": "stream",
     "text": [
      "The total revenue of amazon is  56749030\n"
     ]
    }
   ],
   "source": [
    "print(f\"The total revenue of amazon is  {mean:.0f}\")"
   ]
  },
  {
   "cell_type": "code",
   "execution_count": 1047,
   "id": "eac3fbc2",
   "metadata": {},
   "outputs": [
    {
     "data": {
      "text/html": [
       "<div>\n",
       "<style scoped>\n",
       "    .dataframe tbody tr th:only-of-type {\n",
       "        vertical-align: middle;\n",
       "    }\n",
       "\n",
       "    .dataframe tbody tr th {\n",
       "        vertical-align: top;\n",
       "    }\n",
       "\n",
       "    .dataframe thead th {\n",
       "        text-align: right;\n",
       "    }\n",
       "</style>\n",
       "<table border=\"1\" class=\"dataframe\">\n",
       "  <thead>\n",
       "    <tr style=\"text-align: right;\">\n",
       "      <th></th>\n",
       "      <th>Amount</th>\n",
       "      <th>Rating_Count</th>\n",
       "      <th>Category</th>\n",
       "      <th>revenue</th>\n",
       "    </tr>\n",
       "  </thead>\n",
       "  <tbody>\n",
       "    <tr>\n",
       "      <th>0</th>\n",
       "      <td>399</td>\n",
       "      <td>24269</td>\n",
       "      <td>C</td>\n",
       "      <td>9683331</td>\n",
       "    </tr>\n",
       "    <tr>\n",
       "      <th>1</th>\n",
       "      <td>199</td>\n",
       "      <td>43994</td>\n",
       "      <td>C</td>\n",
       "      <td>8754806</td>\n",
       "    </tr>\n",
       "    <tr>\n",
       "      <th>2</th>\n",
       "      <td>199</td>\n",
       "      <td>7928</td>\n",
       "      <td>C</td>\n",
       "      <td>1577672</td>\n",
       "    </tr>\n",
       "    <tr>\n",
       "      <th>3</th>\n",
       "      <td>329</td>\n",
       "      <td>94363</td>\n",
       "      <td>C</td>\n",
       "      <td>31045427</td>\n",
       "    </tr>\n",
       "    <tr>\n",
       "      <th>4</th>\n",
       "      <td>154</td>\n",
       "      <td>16905</td>\n",
       "      <td>C</td>\n",
       "      <td>2603370</td>\n",
       "    </tr>\n",
       "    <tr>\n",
       "      <th>...</th>\n",
       "      <td>...</td>\n",
       "      <td>...</td>\n",
       "      <td>...</td>\n",
       "      <td>...</td>\n",
       "    </tr>\n",
       "    <tr>\n",
       "      <th>1460</th>\n",
       "      <td>379</td>\n",
       "      <td>1090</td>\n",
       "      <td>H</td>\n",
       "      <td>413110</td>\n",
       "    </tr>\n",
       "    <tr>\n",
       "      <th>1461</th>\n",
       "      <td>2280</td>\n",
       "      <td>4118</td>\n",
       "      <td>H</td>\n",
       "      <td>9389040</td>\n",
       "    </tr>\n",
       "    <tr>\n",
       "      <th>1462</th>\n",
       "      <td>2219</td>\n",
       "      <td>468</td>\n",
       "      <td>H</td>\n",
       "      <td>1038492</td>\n",
       "    </tr>\n",
       "    <tr>\n",
       "      <th>1463</th>\n",
       "      <td>1399</td>\n",
       "      <td>8031</td>\n",
       "      <td>H</td>\n",
       "      <td>11235369</td>\n",
       "    </tr>\n",
       "    <tr>\n",
       "      <th>1464</th>\n",
       "      <td>2863</td>\n",
       "      <td>6987</td>\n",
       "      <td>H</td>\n",
       "      <td>20003781</td>\n",
       "    </tr>\n",
       "  </tbody>\n",
       "</table>\n",
       "<p>1462 rows × 4 columns</p>\n",
       "</div>"
      ],
      "text/plain": [
       "      Amount  Rating_Count Category   revenue\n",
       "0        399         24269        C   9683331\n",
       "1        199         43994        C   8754806\n",
       "2        199          7928        C   1577672\n",
       "3        329         94363        C  31045427\n",
       "4        154         16905        C   2603370\n",
       "...      ...           ...      ...       ...\n",
       "1460     379          1090        H    413110\n",
       "1461    2280          4118        H   9389040\n",
       "1462    2219           468        H   1038492\n",
       "1463    1399          8031        H  11235369\n",
       "1464    2863          6987        H  20003781\n",
       "\n",
       "[1462 rows x 4 columns]"
      ]
     },
     "execution_count": 1047,
     "metadata": {},
     "output_type": "execute_result"
    }
   ],
   "source": [
    "am_rev"
   ]
  },
  {
   "cell_type": "code",
   "execution_count": 1048,
   "id": "b77d941b",
   "metadata": {},
   "outputs": [],
   "source": [
    "am_C['revenue'] = am_C.Amount * am_C.Rating_Count\n",
    "am_C.drop(am_C.index[(am_C[\"Category\"]==\"E\") | (am_C[\"Category\"]==\"H\") | (am_C[\"Category\"]==\"M\") | (am_C[\"Category\"]==\"O\") | (am_C[\"Category\"]==\"T\")],axis=0,inplace=True)\n",
    "\n",
    "am_E['revenue'] = am_E.Amount * am_E.Rating_Count\n",
    "am_E.drop(am_E.index[(am_E[\"Category\"]==\"C\") | (am_E[\"Category\"]==\"H\") | (am_E[\"Category\"]==\"M\") | (am_E[\"Category\"]==\"O\") | (am_E[\"Category\"]==\"T\")],axis=0,inplace=True)\n",
    "\n",
    "am_H['revenue'] = am_H.Amount * am_H.Rating_Count\n",
    "am_H.drop(am_H.index[(am_H[\"Category\"]==\"C\") | (am_H[\"Category\"]==\"E\") | (am_H[\"Category\"]==\"M\") | (am_H[\"Category\"]==\"O\") | (am_H[\"Category\"]==\"T\")],axis=0,inplace=True)\n",
    "\n",
    "am_M['revenue'] = am_M.Amount * am_M.Rating_Count\n",
    "am_M.drop(am_M.index[(am_M[\"Category\"]==\"C\") | (am_M[\"Category\"]==\"E\") | (am_M[\"Category\"]==\"H\") | (am_M[\"Category\"]==\"O\") | (am_M[\"Category\"]==\"T\")],axis=0,inplace=True)\n",
    "\n",
    "am_O['revenue'] = am_O.Amount * am_O.Rating_Count\n",
    "am_O.drop(am_O.index[(am_O[\"Category\"]==\"C\") | (am_O[\"Category\"]==\"E\") | (am_O[\"Category\"]==\"M\") | (am_O[\"Category\"]==\"H\") | (am_O[\"Category\"]==\"T\")],axis=0,inplace=True)\n",
    "\n",
    "am_T['revenue'] = am_T.Amount * am_T.Rating_Count\n",
    "am_T.drop(am_T.index[(am_T[\"Category\"]==\"C\") | (am_T[\"Category\"]==\"E\") | (am_T[\"Category\"]==\"M\") | (am_T[\"Category\"]==\"O\") | (am_T[\"Category\"]==\"H\")],axis=0,inplace=True)"
   ]
  },
  {
   "cell_type": "code",
   "execution_count": 1049,
   "id": "6817f000",
   "metadata": {},
   "outputs": [
    {
     "name": "stdout",
     "output_type": "stream",
     "text": [
      "The total revenue of amazon in computer field is ₹ 17309168\n",
      "The total revenue of amazon in ELECTRONIC is ₹ 112509037\n",
      "The total revenue of amazon in HOUSE is ₹ 35224354\n",
      "The total revenue of amazon in MUSIC is ₹ 32229038\n",
      "The total revenue of amazon in OFFFICE is ₹ 1476991\n",
      "The total revenue of amazon in TOYS is ₹ 2380050\n"
     ]
    }
   ],
   "source": [
    "print(f\"The total revenue of amazon in computer field is ₹ {am_C['revenue'].mean():.0f}\")\n",
    "print(f\"The total revenue of amazon in ELECTRONIC is ₹ {am_E['revenue'].mean():.0f}\")\n",
    "print(f\"The total revenue of amazon in HOUSE is ₹ {am_H['revenue'].mean():.0f}\")\n",
    "print(f\"The total revenue of amazon in MUSIC is ₹ {am_M['revenue'].mean():.0f}\")\n",
    "print(f\"The total revenue of amazon in OFFFICE is ₹ {am_O['revenue'].mean():.0f}\")\n",
    "print(f\"The total revenue of amazon in TOYS is ₹ {am_T['revenue'].mean():.0f}\")"
   ]
  },
  {
   "cell_type": "code",
   "execution_count": 1050,
   "id": "f592ff18",
   "metadata": {},
   "outputs": [
    {
     "data": {
      "text/plain": [
       "165709221"
      ]
     },
     "execution_count": 1050,
     "metadata": {},
     "output_type": "execute_result"
    }
   ],
   "source": [
    "Revenue = pd.Series([17309168,16135611,96178363,32229038,1476991,2380050])\n",
    "Category = pd.Series([\"Computers&Accessories\", \"Home&Kitchen\", \"Electronics\",\"MusicalInstruments\",\"OfficeProducts\",\"Toys&Games\"])\n",
    "graph = pd.DataFrame({\"Category\": Category,\"Revenue\": Revenue})\n",
    "graph[\"Revenue\"].sum()"
   ]
  },
  {
   "cell_type": "code",
   "execution_count": 1051,
   "id": "0689ad7f",
   "metadata": {},
   "outputs": [
    {
     "data": {
      "image/png": "[encoded data removed]",
      "text/plain": [
       "<Figure size 500x800 with 1 Axes>"
      ]
     },
     "metadata": {},
     "output_type": "display_data"
    }
   ],
   "source": [
    "# Creating plot\n",
    "fig = plt.figure(figsize =(5, 8))\n",
    "plt.pie(Revenue, labels = Category)\n",
    " \n",
    "# show plot\n",
    "plt.show()"
   ]
  },
  {
   "cell_type": "markdown",
   "id": "5698b50b",
   "metadata": {},
   "source": [
    "# CONCLUTION"
   ]
  },
  {
   "cell_type": "markdown",
   "id": "896943eb",
   "metadata": {},
   "source": [
    "\n",
    "### + Production increase in Toys&Games, MusicalInstruments And OfficeProducts\n",
    "### + Discount decrease in selective products to gain profit and improve our revenue\n",
    "### + Discount increase in selective products to increase its sale"
   ]
  }
 ],
 "metadata": {
  "kernelspec": {
   "display_name": "Python 3 (ipykernel)",
   "language": "python",
   "name": "python3"
  },
  "language_info": {
   "codemirror_mode": {
    "name": "ipython",
    "version": 3
   },
   "file_extension": ".py",
   "mimetype": "text/x-python",
   "name": "python",
   "nbconvert_exporter": "python",
   "pygments_lexer": "ipython3",
   "version": "3.10.9"
  }
 },
 "nbformat": 4,
 "nbformat_minor": 5
}
