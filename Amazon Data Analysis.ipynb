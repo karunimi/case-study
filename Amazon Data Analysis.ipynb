{
 "cells": [
  {
   "cell_type": "markdown",
   "id": "c9fee6db",
   "metadata": {},
   "source": [
    "# Amazon Data Analysis"
   ]
  },
  {
   "cell_type": "markdown",
   "id": "c6cd80f6",
   "metadata": {},
   "source": [
    "## Importing the essential packages"
   ]
  },
  {
   "cell_type": "code",
   "execution_count": 94,
   "id": "4c37afb1",
   "metadata": {},
   "outputs": [],
   "source": [
    "import pandas as pd"
   ]
  },
  {
   "cell_type": "code",
   "execution_count": 95,
   "id": "ae73c72d",
   "metadata": {},
   "outputs": [],
   "source": [
    "import matplotlib.pyplot as plt"
   ]
  },
  {
   "cell_type": "markdown",
   "id": "de530894",
   "metadata": {},
   "source": [
    "## Importing amazon data"
   ]
  },
  {
   "cell_type": "code",
   "execution_count": 96,
   "id": "350ce7bd",
   "metadata": {},
   "outputs": [],
   "source": [
    "amazon=pd.read_csv(\"amazon.csv\")"
   ]
  },
  {
   "cell_type": "code",
   "execution_count": 97,
   "id": "1183eb52",
   "metadata": {},
   "outputs": [],
   "source": [
    "amazon.drop(1282,axis=0,inplace=True)"
   ]
  },
  {
   "cell_type": "markdown",
   "id": "5b3140d3",
   "metadata": {},
   "source": [
    "## Finding the best Products"
   ]
  },
  {
   "cell_type": "code",
   "execution_count": 117,
   "id": "c091d23d",
   "metadata": {},
   "outputs": [],
   "source": [
    "amazon_best=pd.DataFrame({\"Product\":amazon[\"product_name\"],\"Rating\":amazon[\"rating\"],\"Rating_Count\":amazon[\"rating_count\"],\"Category\":amazon[\"category\"]})"
   ]
  },
  {
   "cell_type": "code",
   "execution_count": 118,
   "id": "092fa86a",
   "metadata": {},
   "outputs": [
    {
     "data": {
      "text/html": [
       "<div>\n",
       "<style scoped>\n",
       "    .dataframe tbody tr th:only-of-type {\n",
       "        vertical-align: middle;\n",
       "    }\n",
       "\n",
       "    .dataframe tbody tr th {\n",
       "        vertical-align: top;\n",
       "    }\n",
       "\n",
       "    .dataframe thead th {\n",
       "        text-align: right;\n",
       "    }\n",
       "</style>\n",
       "<table border=\"1\" class=\"dataframe\">\n",
       "  <thead>\n",
       "    <tr style=\"text-align: right;\">\n",
       "      <th></th>\n",
       "      <th>Product</th>\n",
       "      <th>Rating</th>\n",
       "      <th>Rating_Count</th>\n",
       "      <th>Category</th>\n",
       "    </tr>\n",
       "  </thead>\n",
       "  <tbody>\n",
       "    <tr>\n",
       "      <th>0</th>\n",
       "      <td>Wayona Nylon Braided USB to Lightning Fast Cha...</td>\n",
       "      <td>4.2</td>\n",
       "      <td>24269</td>\n",
       "      <td>Computers&amp;Accessories|Accessories&amp;Peripherals|...</td>\n",
       "    </tr>\n",
       "    <tr>\n",
       "      <th>1</th>\n",
       "      <td>Ambrane Unbreakable 60W / 3A Fast Charging 1.5...</td>\n",
       "      <td>4</td>\n",
       "      <td>43994</td>\n",
       "      <td>Computers&amp;Accessories|Accessories&amp;Peripherals|...</td>\n",
       "    </tr>\n",
       "    <tr>\n",
       "      <th>2</th>\n",
       "      <td>Sounce Fast Phone Charging Cable &amp; Data Sync U...</td>\n",
       "      <td>3.9</td>\n",
       "      <td>7928</td>\n",
       "      <td>Computers&amp;Accessories|Accessories&amp;Peripherals|...</td>\n",
       "    </tr>\n",
       "    <tr>\n",
       "      <th>3</th>\n",
       "      <td>boAt Deuce USB 300 2 in 1 Type-C &amp; Micro USB S...</td>\n",
       "      <td>4.2</td>\n",
       "      <td>94363</td>\n",
       "      <td>Computers&amp;Accessories|Accessories&amp;Peripherals|...</td>\n",
       "    </tr>\n",
       "    <tr>\n",
       "      <th>4</th>\n",
       "      <td>Portronics Konnect L 1.2M Fast Charging 3A 8 P...</td>\n",
       "      <td>4.2</td>\n",
       "      <td>16905</td>\n",
       "      <td>Computers&amp;Accessories|Accessories&amp;Peripherals|...</td>\n",
       "    </tr>\n",
       "    <tr>\n",
       "      <th>...</th>\n",
       "      <td>...</td>\n",
       "      <td>...</td>\n",
       "      <td>...</td>\n",
       "      <td>...</td>\n",
       "    </tr>\n",
       "    <tr>\n",
       "      <th>1460</th>\n",
       "      <td>Noir Aqua - 5pcs PP Spun Filter + 1 Spanner | ...</td>\n",
       "      <td>4</td>\n",
       "      <td>1090</td>\n",
       "      <td>Home&amp;Kitchen|Kitchen&amp;HomeAppliances|WaterPurif...</td>\n",
       "    </tr>\n",
       "    <tr>\n",
       "      <th>1461</th>\n",
       "      <td>Prestige Delight PRWO Electric Rice Cooker (1 ...</td>\n",
       "      <td>4.1</td>\n",
       "      <td>4118</td>\n",
       "      <td>Home&amp;Kitchen|Kitchen&amp;HomeAppliances|SmallKitch...</td>\n",
       "    </tr>\n",
       "    <tr>\n",
       "      <th>1462</th>\n",
       "      <td>Bajaj Majesty RX10 2000 Watts Heat Convector R...</td>\n",
       "      <td>3.6</td>\n",
       "      <td>468</td>\n",
       "      <td>Home&amp;Kitchen|Heating,Cooling&amp;AirQuality|RoomHe...</td>\n",
       "    </tr>\n",
       "    <tr>\n",
       "      <th>1463</th>\n",
       "      <td>Havells Ventil Air DSP 230mm Exhaust Fan (Pist...</td>\n",
       "      <td>4</td>\n",
       "      <td>8031</td>\n",
       "      <td>Home&amp;Kitchen|Heating,Cooling&amp;AirQuality|Fans|E...</td>\n",
       "    </tr>\n",
       "    <tr>\n",
       "      <th>1464</th>\n",
       "      <td>Borosil Jumbo 1000-Watt Grill Sandwich Maker (...</td>\n",
       "      <td>4.3</td>\n",
       "      <td>6987</td>\n",
       "      <td>Home&amp;Kitchen|Kitchen&amp;HomeAppliances|SmallKitch...</td>\n",
       "    </tr>\n",
       "  </tbody>\n",
       "</table>\n",
       "<p>1464 rows × 4 columns</p>\n",
       "</div>"
      ],
      "text/plain": [
       "                                                Product Rating Rating_Count  \\\n",
       "0     Wayona Nylon Braided USB to Lightning Fast Cha...    4.2        24269   \n",
       "1     Ambrane Unbreakable 60W / 3A Fast Charging 1.5...      4        43994   \n",
       "2     Sounce Fast Phone Charging Cable & Data Sync U...    3.9         7928   \n",
       "3     boAt Deuce USB 300 2 in 1 Type-C & Micro USB S...    4.2        94363   \n",
       "4     Portronics Konnect L 1.2M Fast Charging 3A 8 P...    4.2        16905   \n",
       "...                                                 ...    ...          ...   \n",
       "1460  Noir Aqua - 5pcs PP Spun Filter + 1 Spanner | ...      4         1090   \n",
       "1461  Prestige Delight PRWO Electric Rice Cooker (1 ...    4.1         4118   \n",
       "1462  Bajaj Majesty RX10 2000 Watts Heat Convector R...    3.6          468   \n",
       "1463  Havells Ventil Air DSP 230mm Exhaust Fan (Pist...      4         8031   \n",
       "1464  Borosil Jumbo 1000-Watt Grill Sandwich Maker (...    4.3         6987   \n",
       "\n",
       "                                               Category  \n",
       "0     Computers&Accessories|Accessories&Peripherals|...  \n",
       "1     Computers&Accessories|Accessories&Peripherals|...  \n",
       "2     Computers&Accessories|Accessories&Peripherals|...  \n",
       "3     Computers&Accessories|Accessories&Peripherals|...  \n",
       "4     Computers&Accessories|Accessories&Peripherals|...  \n",
       "...                                                 ...  \n",
       "1460  Home&Kitchen|Kitchen&HomeAppliances|WaterPurif...  \n",
       "1461  Home&Kitchen|Kitchen&HomeAppliances|SmallKitch...  \n",
       "1462  Home&Kitchen|Heating,Cooling&AirQuality|RoomHe...  \n",
       "1463  Home&Kitchen|Heating,Cooling&AirQuality|Fans|E...  \n",
       "1464  Home&Kitchen|Kitchen&HomeAppliances|SmallKitch...  \n",
       "\n",
       "[1464 rows x 4 columns]"
      ]
     },
     "execution_count": 118,
     "metadata": {},
     "output_type": "execute_result"
    }
   ],
   "source": [
    "amazon_best"
   ]
  },
  {
   "cell_type": "code",
   "execution_count": 119,
   "id": "36e923a5",
   "metadata": {},
   "outputs": [
    {
     "name": "stderr",
     "output_type": "stream",
     "text": [
      "C:\\Users\\prana\\AppData\\Local\\Temp\\ipykernel_3964\\3119184482.py:1: FutureWarning: The default value of regex will change from True to False in a future version.\n",
      "  amazon_best[\"Rating_Count\"] = amazon_best[\"Rating_Count\"].str.replace(\"[,]\", \"\")\n"
     ]
    }
   ],
   "source": [
    "amazon_best[\"Rating_Count\"] = amazon_best[\"Rating_Count\"].str.replace(\"[,]\", \"\")"
   ]
  },
  {
   "cell_type": "code",
   "execution_count": 120,
   "id": "774eab97",
   "metadata": {},
   "outputs": [],
   "source": [
    "amazon_best.dropna(inplace=True)"
   ]
  },
  {
   "cell_type": "code",
   "execution_count": 121,
   "id": "80d7fadc",
   "metadata": {},
   "outputs": [],
   "source": [
    "amazon_best[\"Rating_Count\"] = amazon_best[\"Rating_Count\"].astype(int)"
   ]
  },
  {
   "cell_type": "code",
   "execution_count": 122,
   "id": "f104d50c",
   "metadata": {},
   "outputs": [
    {
     "name": "stderr",
     "output_type": "stream",
     "text": [
      "C:\\Users\\prana\\AppData\\Local\\Temp\\ipykernel_3964\\1366243082.py:1: FutureWarning: The default value of regex will change from True to False in a future version.\n",
      "  amazon_best[\"Rating\"] = amazon_best[\"Rating\"].str.replace(\"[.]\", \"\")\n"
     ]
    }
   ],
   "source": [
    "amazon_best[\"Rating\"] = amazon_best[\"Rating\"].str.replace(\"[.]\", \"\")"
   ]
  },
  {
   "cell_type": "code",
   "execution_count": 123,
   "id": "8d08860a",
   "metadata": {},
   "outputs": [
    {
     "name": "stderr",
     "output_type": "stream",
     "text": [
      "C:\\Users\\prana\\AppData\\Local\\Temp\\ipykernel_3964\\2907396271.py:1: FutureWarning: The default value of regex will change from True to False in a future version.\n",
      "  amazon_best[\"Rating\"] = amazon_best[\"Rating\"].str.replace(\"[|]\", \"30\")\n"
     ]
    }
   ],
   "source": [
    "amazon_best[\"Rating\"] = amazon_best[\"Rating\"].str.replace(\"[|]\", \"30\")"
   ]
  },
  {
   "cell_type": "code",
   "execution_count": 124,
   "id": "dea0fa4a",
   "metadata": {},
   "outputs": [],
   "source": [
    "amazon_best[\"Rating\"] = amazon_best[\"Rating\"].astype(int)"
   ]
  },
  {
   "cell_type": "code",
   "execution_count": 125,
   "id": "400c74f8",
   "metadata": {},
   "outputs": [],
   "source": [
    "amazon_best[\"Rating\"] = amazon_best[\"Rating\"].replace({1:10,2:20,3:30,4:40,5:50})"
   ]
  },
  {
   "cell_type": "code",
   "execution_count": 126,
   "id": "95444c9d",
   "metadata": {},
   "outputs": [
    {
     "data": {
      "text/html": [
       "<div>\n",
       "<style scoped>\n",
       "    .dataframe tbody tr th:only-of-type {\n",
       "        vertical-align: middle;\n",
       "    }\n",
       "\n",
       "    .dataframe tbody tr th {\n",
       "        vertical-align: top;\n",
       "    }\n",
       "\n",
       "    .dataframe thead th {\n",
       "        text-align: right;\n",
       "    }\n",
       "</style>\n",
       "<table border=\"1\" class=\"dataframe\">\n",
       "  <thead>\n",
       "    <tr style=\"text-align: right;\">\n",
       "      <th></th>\n",
       "      <th>Product</th>\n",
       "      <th>Rating</th>\n",
       "      <th>Rating_Count</th>\n",
       "      <th>Category</th>\n",
       "    </tr>\n",
       "  </thead>\n",
       "  <tbody>\n",
       "    <tr>\n",
       "      <th>174</th>\n",
       "      <td>Syncwire LTG to USB Cable for Fast Charging Co...</td>\n",
       "      <td>50</td>\n",
       "      <td>5</td>\n",
       "      <td>Computers&amp;Accessories|Accessories&amp;Peripherals|...</td>\n",
       "    </tr>\n",
       "    <tr>\n",
       "      <th>249</th>\n",
       "      <td>Sony Bravia 164 cm (65 inches) 4K Ultra HD Sma...</td>\n",
       "      <td>47</td>\n",
       "      <td>5935</td>\n",
       "      <td>Electronics|HomeTheater,TV&amp;Video|Televisions|S...</td>\n",
       "    </tr>\n",
       "    <tr>\n",
       "      <th>459</th>\n",
       "      <td>Spigen EZ Fit Tempered Glass Screen Protector ...</td>\n",
       "      <td>47</td>\n",
       "      <td>7779</td>\n",
       "      <td>Electronics|Mobiles&amp;Accessories|MobileAccessor...</td>\n",
       "    </tr>\n",
       "    <tr>\n",
       "      <th>775</th>\n",
       "      <td>Amazon Basics Wireless Mouse | 2.4 GHz Connect...</td>\n",
       "      <td>50</td>\n",
       "      <td>23</td>\n",
       "      <td>Computers&amp;Accessories|Accessories&amp;Peripherals|...</td>\n",
       "    </tr>\n",
       "    <tr>\n",
       "      <th>1145</th>\n",
       "      <td>Swiffer Instant Electric Water Heater Faucet T...</td>\n",
       "      <td>48</td>\n",
       "      <td>53803</td>\n",
       "      <td>Home&amp;Kitchen|Heating,Cooling&amp;AirQuality|WaterH...</td>\n",
       "    </tr>\n",
       "    <tr>\n",
       "      <th>1201</th>\n",
       "      <td>Oratech Coffee Frother electric, milk frother ...</td>\n",
       "      <td>48</td>\n",
       "      <td>28</td>\n",
       "      <td>Home&amp;Kitchen|Kitchen&amp;HomeAppliances|SmallKitch...</td>\n",
       "    </tr>\n",
       "    <tr>\n",
       "      <th>1223</th>\n",
       "      <td>FIGMENT Handheld Milk Frother Rechargeable, 3-...</td>\n",
       "      <td>47</td>\n",
       "      <td>1729</td>\n",
       "      <td>Home&amp;Kitchen|Kitchen&amp;HomeAppliances|SmallKitch...</td>\n",
       "    </tr>\n",
       "    <tr>\n",
       "      <th>1226</th>\n",
       "      <td>Zuvexa USB Rechargeable Electric Foam Maker - ...</td>\n",
       "      <td>47</td>\n",
       "      <td>54</td>\n",
       "      <td>Home&amp;Kitchen|Kitchen&amp;HomeAppliances|SmallKitch...</td>\n",
       "    </tr>\n",
       "    <tr>\n",
       "      <th>1275</th>\n",
       "      <td>Multifunctional 2 in 1 Electric Egg Boiling St...</td>\n",
       "      <td>47</td>\n",
       "      <td>2300</td>\n",
       "      <td>Home&amp;Kitchen|Kitchen&amp;HomeAppliances|SmallKitch...</td>\n",
       "    </tr>\n",
       "    <tr>\n",
       "      <th>1299</th>\n",
       "      <td>Instant Pot Air Fryer, Vortex 2QT, Touch Contr...</td>\n",
       "      <td>48</td>\n",
       "      <td>3964</td>\n",
       "      <td>Home&amp;Kitchen|Kitchen&amp;HomeAppliances|SmallKitch...</td>\n",
       "    </tr>\n",
       "    <tr>\n",
       "      <th>1388</th>\n",
       "      <td>Campfire Spring Chef Prolix Instant Portable W...</td>\n",
       "      <td>47</td>\n",
       "      <td>2591</td>\n",
       "      <td>Home&amp;Kitchen|Heating,Cooling&amp;AirQuality|WaterH...</td>\n",
       "    </tr>\n",
       "  </tbody>\n",
       "</table>\n",
       "</div>"
      ],
      "text/plain": [
       "                                                Product  Rating  Rating_Count  \\\n",
       "174   Syncwire LTG to USB Cable for Fast Charging Co...      50             5   \n",
       "249   Sony Bravia 164 cm (65 inches) 4K Ultra HD Sma...      47          5935   \n",
       "459   Spigen EZ Fit Tempered Glass Screen Protector ...      47          7779   \n",
       "775   Amazon Basics Wireless Mouse | 2.4 GHz Connect...      50            23   \n",
       "1145  Swiffer Instant Electric Water Heater Faucet T...      48         53803   \n",
       "1201  Oratech Coffee Frother electric, milk frother ...      48            28   \n",
       "1223  FIGMENT Handheld Milk Frother Rechargeable, 3-...      47          1729   \n",
       "1226  Zuvexa USB Rechargeable Electric Foam Maker - ...      47            54   \n",
       "1275  Multifunctional 2 in 1 Electric Egg Boiling St...      47          2300   \n",
       "1299  Instant Pot Air Fryer, Vortex 2QT, Touch Contr...      48          3964   \n",
       "1388  Campfire Spring Chef Prolix Instant Portable W...      47          2591   \n",
       "\n",
       "                                               Category  \n",
       "174   Computers&Accessories|Accessories&Peripherals|...  \n",
       "249   Electronics|HomeTheater,TV&Video|Televisions|S...  \n",
       "459   Electronics|Mobiles&Accessories|MobileAccessor...  \n",
       "775   Computers&Accessories|Accessories&Peripherals|...  \n",
       "1145  Home&Kitchen|Heating,Cooling&AirQuality|WaterH...  \n",
       "1201  Home&Kitchen|Kitchen&HomeAppliances|SmallKitch...  \n",
       "1223  Home&Kitchen|Kitchen&HomeAppliances|SmallKitch...  \n",
       "1226  Home&Kitchen|Kitchen&HomeAppliances|SmallKitch...  \n",
       "1275  Home&Kitchen|Kitchen&HomeAppliances|SmallKitch...  \n",
       "1299  Home&Kitchen|Kitchen&HomeAppliances|SmallKitch...  \n",
       "1388  Home&Kitchen|Heating,Cooling&AirQuality|WaterH...  "
      ]
     },
     "execution_count": 126,
     "metadata": {},
     "output_type": "execute_result"
    }
   ],
   "source": [
    "amazon_best[amazon_best[\"Rating\"] > 46]"
   ]
  },
  {
   "cell_type": "code",
   "execution_count": 135,
   "id": "ee5eebfb",
   "metadata": {},
   "outputs": [
    {
     "data": {
      "text/html": [
       "<div>\n",
       "<style scoped>\n",
       "    .dataframe tbody tr th:only-of-type {\n",
       "        vertical-align: middle;\n",
       "    }\n",
       "\n",
       "    .dataframe tbody tr th {\n",
       "        vertical-align: top;\n",
       "    }\n",
       "\n",
       "    .dataframe thead th {\n",
       "        text-align: right;\n",
       "    }\n",
       "</style>\n",
       "<table border=\"1\" class=\"dataframe\">\n",
       "  <thead>\n",
       "    <tr style=\"text-align: right;\">\n",
       "      <th></th>\n",
       "      <th>Product</th>\n",
       "      <th>Rating</th>\n",
       "      <th>Rating_Count</th>\n",
       "      <th>Category</th>\n",
       "    </tr>\n",
       "  </thead>\n",
       "  <tbody>\n",
       "    <tr>\n",
       "      <th>12</th>\n",
       "      <td>AmazonBasics Flexible Premium HDMI Cable (Blac...</td>\n",
       "      <td>44</td>\n",
       "      <td>426973</td>\n",
       "      <td>Electronics|HomeTheater,TV&amp;Video|Accessories|C...</td>\n",
       "    </tr>\n",
       "    <tr>\n",
       "      <th>47</th>\n",
       "      <td>Amazon Basics High-Speed HDMI Cable, 6 Feet - ...</td>\n",
       "      <td>44</td>\n",
       "      <td>426973</td>\n",
       "      <td>Electronics|HomeTheater,TV&amp;Video|Accessories|C...</td>\n",
       "    </tr>\n",
       "    <tr>\n",
       "      <th>65</th>\n",
       "      <td>Amazon Basics High-Speed HDMI Cable, 6 Feet (2...</td>\n",
       "      <td>44</td>\n",
       "      <td>426973</td>\n",
       "      <td>Electronics|HomeTheater,TV&amp;Video|Accessories|C...</td>\n",
       "    </tr>\n",
       "    <tr>\n",
       "      <th>352</th>\n",
       "      <td>boAt Bassheads 100 in Ear Wired Earphones with...</td>\n",
       "      <td>41</td>\n",
       "      <td>363713</td>\n",
       "      <td>Electronics|Headphones,Earbuds&amp;Accessories|Hea...</td>\n",
       "    </tr>\n",
       "    <tr>\n",
       "      <th>370</th>\n",
       "      <td>Redmi 9 Activ (Carbon Black, 4GB RAM, 64GB Sto...</td>\n",
       "      <td>41</td>\n",
       "      <td>313836</td>\n",
       "      <td>Electronics|Mobiles&amp;Accessories|Smartphones&amp;Ba...</td>\n",
       "    </tr>\n",
       "    <tr>\n",
       "      <th>371</th>\n",
       "      <td>Redmi 9A Sport (Coral Green, 2GB RAM, 32GB Sto...</td>\n",
       "      <td>41</td>\n",
       "      <td>313836</td>\n",
       "      <td>Electronics|Mobiles&amp;Accessories|Smartphones&amp;Ba...</td>\n",
       "    </tr>\n",
       "    <tr>\n",
       "      <th>400</th>\n",
       "      <td>boAt Bassheads 100 in Ear Wired Earphones with...</td>\n",
       "      <td>41</td>\n",
       "      <td>363713</td>\n",
       "      <td>Electronics|Headphones,Earbuds&amp;Accessories|Hea...</td>\n",
       "    </tr>\n",
       "    <tr>\n",
       "      <th>473</th>\n",
       "      <td>Redmi 9A Sport (Carbon Black, 2GB RAM, 32GB St...</td>\n",
       "      <td>41</td>\n",
       "      <td>313832</td>\n",
       "      <td>Electronics|Mobiles&amp;Accessories|Smartphones&amp;Ba...</td>\n",
       "    </tr>\n",
       "    <tr>\n",
       "      <th>566</th>\n",
       "      <td>Redmi 9A Sport (Coral Green, 3GB RAM, 32GB Sto...</td>\n",
       "      <td>41</td>\n",
       "      <td>313832</td>\n",
       "      <td>Electronics|Mobiles&amp;Accessories|Smartphones&amp;Ba...</td>\n",
       "    </tr>\n",
       "    <tr>\n",
       "      <th>584</th>\n",
       "      <td>boAt BassHeads 100 in-Ear Wired Headphones wit...</td>\n",
       "      <td>41</td>\n",
       "      <td>363711</td>\n",
       "      <td>Electronics|Headphones,Earbuds&amp;Accessories|Hea...</td>\n",
       "    </tr>\n",
       "    <tr>\n",
       "      <th>684</th>\n",
       "      <td>AmazonBasics Flexible Premium HDMI Cable (Blac...</td>\n",
       "      <td>44</td>\n",
       "      <td>426972</td>\n",
       "      <td>Electronics|HomeTheater,TV&amp;Video|Accessories|C...</td>\n",
       "    </tr>\n",
       "  </tbody>\n",
       "</table>\n",
       "</div>"
      ],
      "text/plain": [
       "                                               Product  Rating  Rating_Count  \\\n",
       "12   AmazonBasics Flexible Premium HDMI Cable (Blac...      44        426973   \n",
       "47   Amazon Basics High-Speed HDMI Cable, 6 Feet - ...      44        426973   \n",
       "65   Amazon Basics High-Speed HDMI Cable, 6 Feet (2...      44        426973   \n",
       "352  boAt Bassheads 100 in Ear Wired Earphones with...      41        363713   \n",
       "370  Redmi 9 Activ (Carbon Black, 4GB RAM, 64GB Sto...      41        313836   \n",
       "371  Redmi 9A Sport (Coral Green, 2GB RAM, 32GB Sto...      41        313836   \n",
       "400  boAt Bassheads 100 in Ear Wired Earphones with...      41        363713   \n",
       "473  Redmi 9A Sport (Carbon Black, 2GB RAM, 32GB St...      41        313832   \n",
       "566  Redmi 9A Sport (Coral Green, 3GB RAM, 32GB Sto...      41        313832   \n",
       "584  boAt BassHeads 100 in-Ear Wired Headphones wit...      41        363711   \n",
       "684  AmazonBasics Flexible Premium HDMI Cable (Blac...      44        426972   \n",
       "\n",
       "                                              Category  \n",
       "12   Electronics|HomeTheater,TV&Video|Accessories|C...  \n",
       "47   Electronics|HomeTheater,TV&Video|Accessories|C...  \n",
       "65   Electronics|HomeTheater,TV&Video|Accessories|C...  \n",
       "352  Electronics|Headphones,Earbuds&Accessories|Hea...  \n",
       "370  Electronics|Mobiles&Accessories|Smartphones&Ba...  \n",
       "371  Electronics|Mobiles&Accessories|Smartphones&Ba...  \n",
       "400  Electronics|Headphones,Earbuds&Accessories|Hea...  \n",
       "473  Electronics|Mobiles&Accessories|Smartphones&Ba...  \n",
       "566  Electronics|Mobiles&Accessories|Smartphones&Ba...  \n",
       "584  Electronics|Headphones,Earbuds&Accessories|Hea...  \n",
       "684  Electronics|HomeTheater,TV&Video|Accessories|C...  "
      ]
     },
     "execution_count": 135,
     "metadata": {},
     "output_type": "execute_result"
    }
   ],
   "source": [
    "amazon_best[amazon_best[\"Rating_Count\"] > 300000]"
   ]
  },
  {
   "cell_type": "code",
   "execution_count": null,
   "id": "763149e6",
   "metadata": {},
   "outputs": [],
   "source": []
  }
 ],
 "metadata": {
  "kernelspec": {
   "display_name": "Python 3 (ipykernel)",
   "language": "python",
   "name": "python3"
  },
  "language_info": {
   "codemirror_mode": {
    "name": "ipython",
    "version": 3
   },
   "file_extension": ".py",
   "mimetype": "text/x-python",
   "name": "python",
   "nbconvert_exporter": "python",
   "pygments_lexer": "ipython3",
   "version": "3.10.9"
  }
 },
 "nbformat": 4,
 "nbformat_minor": 5
}
